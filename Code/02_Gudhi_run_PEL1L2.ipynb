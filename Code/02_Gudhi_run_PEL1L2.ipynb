{
 "cells": [
  {
   "cell_type": "code",
   "execution_count": 1,
   "id": "8101f07c",
   "metadata": {},
   "outputs": [],
   "source": [
    "import pandas as pd\n",
    "import gudhi as gd\n",
    "import gudhi.representations\n",
    "import os, re, time\n",
    "import numpy as np\n",
    "import pickle as pkl"
   ]
  },
  {
   "cell_type": "markdown",
   "id": "3b2a39f9",
   "metadata": {},
   "source": [
    "# Data"
   ]
  },
  {
   "cell_type": "code",
   "execution_count": 2,
   "id": "59ee753b-fc4b-4cea-beb9-0bb55b1588a2",
   "metadata": {},
   "outputs": [],
   "source": [
    "dataset = 'MPI_LEMON'\n",
    "# dataset = 'ABIDE'\n",
    "\n",
    "# CorrType = 'PosCorr'\n",
    "CorrType = 'AllCorr'"
   ]
  },
  {
   "cell_type": "code",
   "execution_count": 3,
   "id": "f9cdc665-8330-4618-9af1-59d327d796b3",
   "metadata": {},
   "outputs": [
    {
     "name": "stdout",
     "output_type": "stream",
     "text": [
      "Young 153 \t Elderly 72 \tTotal: 225\n",
      "32302 32301\n"
     ]
    }
   ],
   "source": [
    "if dataset == 'MPI_LEMON':\n",
    "    Detailsfile = pd.read_csv('../Data/MPI_LEMON/MPILemon_Subject_details.csv')\n",
    "    Young = list(map(str, list(Detailsfile.loc[Detailsfile['Cohort'] == 'Young','Subject'])))\n",
    "    Elder = list(map(str, list(Detailsfile.loc[Detailsfile['Cohort'] == 'Elderly','Subject'])))\n",
    "    All_subs = Young + Elder\n",
    "    Group1, Group2 = 'Young', 'Elderly'\n",
    "    GR1, GR2 = Young, Elder\n",
    "\n",
    "elif dataset == 'ABIDE':\n",
    "    Detailsfile = pd.read_csv('../Data/ABIDE/ABIDE_Subject_details.csv')\n",
    "    ASD = list(map(str, list(Detailsfile.loc[Detailsfile['Cohort'] == 'ASD','Subject identifier'])))\n",
    "    Healthy = list(map(str, list(Detailsfile.loc[Detailsfile['Cohort'] == 'HC','Subject identifier'])))\n",
    "    All_subs = ASD + Healthy\n",
    "    Group1, Group2 = 'ASD', 'TD'\n",
    "    GR1, GR2 = ASD, Healthy\n",
    "\n",
    "print(Group1, len(GR1), '\\t', Group2, len(GR2), '\\tTotal:', len(All_subs))\n",
    "print(GR1[0], GR2[0])"
   ]
  },
  {
   "cell_type": "code",
   "execution_count": null,
   "id": "64ab758c-1dd2-4adf-8de6-2c23937435c2",
   "metadata": {},
   "outputs": [],
   "source": [
    "path_file = f'../Data/{dataset}/FCM_DistMat/' \n",
    "files_list = os.listdir(path_file)\n",
    "len(files_list)"
   ]
  },
  {
   "cell_type": "markdown",
   "id": "dd2451c2",
   "metadata": {},
   "source": [
    "# Persistent Homology Computation"
   ]
  },
  {
   "cell_type": "code",
   "execution_count": null,
   "id": "5ce4aa04",
   "metadata": {
    "scrolled": true
   },
   "outputs": [],
   "source": [
    "dgms_list = list()\n",
    "barcode0_list = list()\n",
    "barcode1_list = list()\n",
    "barcode2_list = list()\n",
    "t0 = time.time()\n",
    "\n",
    "if CorrType == 'AllCorr':\n",
    "    thres = 2\n",
    "elif CorrType == 'PosCorr':\n",
    "    thres = np.sqrt(2)\n",
    "\n",
    "for i in range(len(files_list)):\n",
    "    t1 = time.time()\n",
    "    SubID = files_list[i].split('.')[0].split('_')[-1]\n",
    "    #print(i,SubID)\n",
    "    DisMat = pd.read_csv(path_file + files_list[i], header = None, sep = ',').values\n",
    "    skeleton = gd.RipsComplex(distance_matrix = DisMat, max_edge_length=thres, sparse=None)\n",
    "    Rips_simplex_tree = skeleton.create_simplex_tree(max_dimension=3)\n",
    "    BarCodes_Rips = Rips_simplex_tree.persistence()\n",
    "    dgms_list.append({SubID: np.array([list(bars[1]) for bars in BarCodes_Rips])})\n",
    "    barcode0_list.append({SubID: Rips_simplex_tree.persistence_intervals_in_dimension(0)})\n",
    "    barcode1_list.append({SubID: Rips_simplex_tree.persistence_intervals_in_dimension(1)})\n",
    "    barcode2_list.append({SubID: Rips_simplex_tree.persistence_intervals_in_dimension(2)})\n",
    "    print('Done for ',i,SubID,'  Number of 1Dholes = ', len(barcode1_list[i][SubID]), '  ',time.time() - t1)\n",
    "    # break\n",
    "print('Done for', dataset, CorrType, thres)\n",
    "print(time.time() - t0)"
   ]
  },
  {
   "cell_type": "markdown",
   "id": "e94a89eb-e5dd-42a4-9024-5f29c58d754d",
   "metadata": {},
   "source": [
    "### Stores the barcodes"
   ]
  },
  {
   "cell_type": "code",
   "execution_count": 6,
   "id": "7f63b636-60a0-4d36-a8a2-63c32b6883cf",
   "metadata": {},
   "outputs": [
    {
     "name": "stdout",
     "output_type": "stream",
     "text": [
      "Done\n"
     ]
    }
   ],
   "source": [
    "outpath = f'../OutputFiles/{CorrType}/{dataset}/'\n",
    "os.makedirs(outpath, exist_ok=True)\n",
    "with open(outpath +'dgms_list.pkl','wb') as f:\n",
    "    pkl.dump(dgms_list, f)\n",
    "    \n",
    "with open(outpath +'barcode0_list.pkl','wb') as f:\n",
    "    pkl.dump(barcode0_list, f)\n",
    "    \n",
    "with open(outpath +'barcode1_list.pkl','wb') as f:\n",
    "    pkl.dump(barcode1_list, f)\n",
    "    \n",
    "with open(outpath +'barcode2_list.pkl','wb') as f:\n",
    "    pkl.dump(barcode2_list, f)\n",
    "print('Done')"
   ]
  },
  {
   "cell_type": "code",
   "execution_count": 4,
   "id": "10acba00",
   "metadata": {},
   "outputs": [
    {
     "name": "stdout",
     "output_type": "stream",
     "text": [
      "Opened input files\n"
     ]
    }
   ],
   "source": [
    "outpath = f'../OutputFiles/{CorrType}/{dataset}/'\n",
    "with open(outpath +'dgms_list.pkl','rb') as f:\n",
    "    dgms_list = pkl.load(f)\n",
    "    \n",
    "with open(outpath +'barcode0_list.pkl','rb') as f:\n",
    "    barcode0_list = pkl.load(f)\n",
    "    \n",
    "with open(outpath +'barcode1_list.pkl','rb') as f:\n",
    "    barcode1_list = pkl.load(f)\n",
    "    \n",
    "with open(outpath +'barcode2_list.pkl','rb') as f:\n",
    "    barcode2_list = pkl.load(f)\n",
    "\n",
    "print('Opened input files')"
   ]
  },
  {
   "cell_type": "code",
   "execution_count": 5,
   "id": "17dfeb7c-b7b8-4598-8aba-033bf6d60707",
   "metadata": {},
   "outputs": [
    {
     "data": {
      "text/plain": [
       "(225, 225, 225, 225)"
      ]
     },
     "execution_count": 5,
     "metadata": {},
     "output_type": "execute_result"
    }
   ],
   "source": [
    "len(dgms_list), len(barcode0_list), len(barcode1_list), len(barcode2_list)\n",
    "# len(barcode2_list[4]['32305'])"
   ]
  },
  {
   "cell_type": "code",
   "execution_count": null,
   "id": "4f0bc911-ddc5-41e2-a079-d845d9873208",
   "metadata": {},
   "outputs": [],
   "source": [
    "Group1_dgms_list, Group2_dgms_list = list(), list()\n",
    "Group1_barcode0_list, Group2_barcode0_list = list(), list()\n",
    "Group1_barcode1_list, Group2_barcode1_list = list(), list()\n",
    "Group1_barcode2_list, Group2_barcode2_list = list(), list()\n",
    "G1_ID_list, G2_ID_list = list(), list()\n",
    "\n",
    "for i in range(len(files_list)):\n",
    "    t1 = time.time()\n",
    "    SubID = files_list[i].split('.')[0].split('_')[-1]\n",
    "    # print(i,SubID,type(SubID))\n",
    "    if SubID in GR1:\n",
    "        Group1_dgms_list.append(dgms_list[i][SubID])\n",
    "        Group1_barcode0_list.append(barcode0_list[i][SubID])\n",
    "        Group1_barcode1_list.append(barcode1_list[i][SubID])\n",
    "        Group1_barcode2_list.append(barcode2_list[i][SubID])\n",
    "        G1_ID_list.append(SubID)\n",
    "        #print(f'Done for {Group1} ',i,SubID,time.time() - t1)\n",
    "    elif SubID in GR2:\n",
    "        Group2_dgms_list.append(dgms_list[i][SubID])\n",
    "        Group2_barcode0_list.append(barcode0_list[i][SubID])\n",
    "        Group2_barcode1_list.append(barcode1_list[i][SubID])\n",
    "        Group2_barcode2_list.append(barcode2_list[i][SubID])\n",
    "        G2_ID_list.append(SubID)\n",
    "        #print(f'Done for {Group2}',i,SubID,time.time() - t1)\n",
    "print('DONE')\n",
    "print(Group1, len(Group1_barcode0_list), '\\t', Group2, len(Group2_barcode0_list))"
   ]
  },
  {
   "cell_type": "code",
   "execution_count": 23,
   "id": "4db9cc4c-090a-4ea5-bfbb-fdfde011a8f2",
   "metadata": {},
   "outputs": [
    {
     "name": "stdout",
     "output_type": "stream",
     "text": [
      "Done\n"
     ]
    }
   ],
   "source": [
    "with open(outpath +f'{Group1}_dgms_list.pkl','wb') as f:\n",
    "    pkl.dump(Group1_dgms_list, f)\n",
    "    \n",
    "with open(outpath +f'{Group1}_barcode0_list.pkl','wb') as f:\n",
    "    pkl.dump(Group1_barcode0_list, f)\n",
    "    \n",
    "with open(outpath +f'{Group1}_barcode1_list.pkl','wb') as f:\n",
    "    pkl.dump(Group1_barcode1_list, f)\n",
    "    \n",
    "with open(outpath +f'{Group1}_barcode2_list.pkl','wb') as f:\n",
    "    pkl.dump(Group1_barcode2_list, f)\n",
    "\n",
    "with open(outpath +f'{Group2}_dgms_list.pkl','wb') as f:\n",
    "    pkl.dump(Group2_dgms_list, f)\n",
    "    \n",
    "with open(outpath +f'{Group2}_barcode0_list.pkl','wb') as f:\n",
    "    pkl.dump(Group2_barcode0_list, f)\n",
    "    \n",
    "with open(outpath +f'{Group2}_barcode1_list.pkl','wb') as f:\n",
    "    pkl.dump(Group2_barcode1_list, f)\n",
    "    \n",
    "with open(outpath +f'{Group2}_barcode2_list.pkl','wb') as f:\n",
    "    pkl.dump(Group2_barcode2_list, f)\n",
    "\n",
    "print('Done')"
   ]
  },
  {
   "cell_type": "markdown",
   "id": "5a5a440f",
   "metadata": {},
   "source": [
    "# Persistence Landscape"
   ]
  },
  {
   "cell_type": "code",
   "execution_count": 11,
   "id": "0ad278d7",
   "metadata": {},
   "outputs": [],
   "source": [
    "LS = gd.representations.Landscape(num_landscapes=1)\n",
    "Group1_LS = LS.fit_transform(Group1_barcode1_list)\n",
    "Group2_LS = LS.fit_transform(Group2_barcode1_list)\n",
    "\n",
    "Group1_L1_norm = np.linalg.norm(Group1_LS, 1, axis=1)\n",
    "Group1_L2_norm = np.linalg.norm(Group1_LS, axis=1)\n",
    "Group2_L1_norm = np.linalg.norm(Group2_LS, 1, axis=1)\n",
    "Group2_L2_norm = np.linalg.norm(Group2_LS, axis=1)"
   ]
  },
  {
   "cell_type": "markdown",
   "id": "f2518e26",
   "metadata": {},
   "source": [
    "# Persistence Entropy"
   ]
  },
  {
   "cell_type": "code",
   "execution_count": 12,
   "id": "9183d780-f603-478c-a17e-44b56be808f0",
   "metadata": {},
   "outputs": [],
   "source": [
    "def replace_infinity_by_thres(barcode, thres):\n",
    "    for bars in barcode:\n",
    "        for bar in bars:\n",
    "            if bar[1] == np.inf:\n",
    "                bar[1] = thres\n",
    "    return barcode"
   ]
  },
  {
   "cell_type": "code",
   "execution_count": 13,
   "id": "eedd423d",
   "metadata": {},
   "outputs": [],
   "source": [
    "if CorrType == 'AllCorr':\n",
    "    thres = 2\n",
    "elif CorrType == 'PosCorr':\n",
    "    thres = np.sqrt(2)\n",
    "\n",
    "Group1_dgms_list = replace_infinity_by_thres(Group1_dgms_list, thres)\n",
    "Group2_dgms_list = replace_infinity_by_thres(Group2_dgms_list, thres)\n",
    "\n",
    "PE = gd.representations.Entropy()\n",
    "Group1_pe_dim = PE.fit_transform(Group1_dgms_list)\n",
    "Group2_pe_dim = PE.fit_transform(Group2_dgms_list)"
   ]
  },
  {
   "cell_type": "code",
   "execution_count": null,
   "id": "494bb79b-3dee-427e-bb2f-5e95627f63ed",
   "metadata": {},
   "outputs": [],
   "source": [
    "Group1_Global_data, Group2_Global_data = pd.DataFrame(), pd.DataFrame()\n",
    "\n",
    "Group1_Global_data['SubID'] = G1_ID_list\n",
    "Group1_Global_data['L1_norm'] = Group1_L1_norm\n",
    "Group1_Global_data['L2_norm'] = Group1_L2_norm\n",
    "Group1_Global_data['pe_dim'] = Group1_pe_dim \n",
    "\n",
    "Group2_Global_data['SubID'] = G2_ID_list\n",
    "Group2_Global_data['L1_norm'] = Group2_L1_norm\n",
    "Group2_Global_data['L2_norm'] = Group2_L2_norm\n",
    "Group2_Global_data['pe_dim'] = Group2_pe_dim\n",
    "\n",
    "print(Group1,'\\n', Group1_Global_data[['L1_norm', 'L2_norm', 'pe_dim']].mean())\n",
    "print(Group2,'\\n', Group2_Global_data[['L1_norm', 'L2_norm', 'pe_dim']].mean())\n",
    "# Group1_Global_data.to_csv(outpath + f'{Group1}_L1L2PE.txt', sep = '\\t', index=False)\n",
    "# Group2_Global_data.to_csv(outpath + f'{Group2}_L1L2PE.txt', sep = '\\t', index=False)"
   ]
  },
  {
   "cell_type": "code",
   "execution_count": null,
   "id": "63f1a694-f369-4e67-8ac0-6c95284e32dd",
   "metadata": {},
   "outputs": [],
   "source": []
  }
 ],
 "metadata": {
  "kernelspec": {
   "display_name": "Python 3 (ipykernel)",
   "language": "python",
   "name": "python3"
  },
  "language_info": {
   "codemirror_mode": {
    "name": "ipython",
    "version": 3
   },
   "file_extension": ".py",
   "mimetype": "text/x-python",
   "name": "python",
   "nbconvert_exporter": "python",
   "pygments_lexer": "ipython3",
   "version": "3.11.7"
  }
 },
 "nbformat": 4,
 "nbformat_minor": 5
}
