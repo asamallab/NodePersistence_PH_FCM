{
 "cells": [
  {
   "cell_type": "code",
   "execution_count": 1,
   "id": "b9fd8af6",
   "metadata": {},
   "outputs": [],
   "source": [
    "import pandas as pd\n",
    "import numpy as np\n",
    "import os"
   ]
  },
  {
   "cell_type": "code",
   "execution_count": 2,
   "id": "d196a83b",
   "metadata": {
    "scrolled": true
   },
   "outputs": [
    {
     "data": {
      "text/plain": [
       "('MPI_LEMON', 225)"
      ]
     },
     "execution_count": 2,
     "metadata": {},
     "output_type": "execute_result"
    }
   ],
   "source": [
    "dataset = 'MPI_LEMON'\n",
    "# dataset = 'ABIDE'\n",
    "\n",
    "fpath = f'../Data/{dataset}/FCM_CorrMat_asList/'\n",
    "dataset, len(os.listdir(fpath))"
   ]
  },
  {
   "cell_type": "markdown",
   "id": "cb067761",
   "metadata": {},
   "source": [
    "## Correlation matrices (C) to distance matrix (D) = $sqrt(2(1-C_{ij}))$"
   ]
  },
  {
   "cell_type": "code",
   "execution_count": null,
   "id": "c05f6375",
   "metadata": {
    "scrolled": true
   },
   "outputs": [],
   "source": [
    "for fname in os.listdir(fpath):\n",
    "    edgelist = pd.read_csv(fpath+f'{fname}', sep='\\t', names=['source','target','corr_coeff'])\n",
    "    for i in np.unique(edgelist[['source','target']].values):\n",
    "        edgelist.loc[len(edgelist)] = {'source': i,'target':i,'corr_coeff':1}\n",
    "    edgelist['dist'] = np.sqrt(2*(1 - edgelist['corr_coeff']))\n",
    "    DistMat = edgelist.pivot(index='source', columns='target', values='dist').fillna(0)\n",
    "    DistMat = DistMat + DistMat.T\n",
    "    SubID = fname.split('.')[0]\n",
    "    DistMat.to_csv(fpath+f'../FCM_DistMat/{SubID}.csv', index=False, header = False)\n",
    "    print('Number of nodes:', len(np.unique(edgelist[['source','target']].values)), f' Done for {SubID}')\n",
    "print('DONE')"
   ]
  },
  {
   "cell_type": "code",
   "execution_count": null,
   "id": "fd6fdc35-4b6a-40a3-bbab-f251d66162fc",
   "metadata": {},
   "outputs": [],
   "source": []
  }
 ],
 "metadata": {
  "kernelspec": {
   "display_name": "Python 3 (ipykernel)",
   "language": "python",
   "name": "python3"
  },
  "language_info": {
   "codemirror_mode": {
    "name": "ipython",
    "version": 3
   },
   "file_extension": ".py",
   "mimetype": "text/x-python",
   "name": "python",
   "nbconvert_exporter": "python",
   "pygments_lexer": "ipython3",
   "version": "3.11.7"
  }
 },
 "nbformat": 4,
 "nbformat_minor": 5
}
