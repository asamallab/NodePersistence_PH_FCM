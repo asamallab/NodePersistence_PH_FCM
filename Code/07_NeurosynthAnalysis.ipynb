{
 "cells": [
  {
   "cell_type": "code",
   "execution_count": 1,
   "metadata": {},
   "outputs": [],
   "source": [
    "import pandas as pd\n",
    "import numpy as np\n",
    "import scipy.stats\n",
    "from collections import Counter\n",
    "import statsmodels.stats.multitest"
   ]
  },
  {
   "cell_type": "code",
   "execution_count": 2,
   "metadata": {
    "id": "v9On0T7-q9Ir"
   },
   "outputs": [
    {
     "name": "stdout",
     "output_type": "stream",
     "text": [
      "108\n"
     ]
    },
    {
     "data": {
      "text/plain": [
       "108"
      ]
     },
     "execution_count": 2,
     "metadata": {},
     "output_type": "execute_result"
    }
   ],
   "source": [
    "dataset = 'MPI_LEMON'\n",
    "# dataset = 'ABIDE'\n",
    "\n",
    "temp = pd.read_csv(f'../OutputFiles/PosCorr/{dataset}/Global_SigDiff_Node_persistence.tsv', sep ='\\t')\n",
    "\n",
    "sig_nodes = temp['Region'].dropna().tolist()\n",
    "print(len(sig_nodes))\n",
    "\n",
    "df1 = pd.read_csv(\"../Data/Cognitive_terms_SchaeferAtlas.csv\")\n",
    "df1_sorted = df1[df1['rois'].isin(sig_nodes)]\n",
    "len(df1_sorted)"
   ]
  },
  {
   "cell_type": "code",
   "execution_count": 3,
   "metadata": {
    "id": "jEHFiaJsrXZd"
   },
   "outputs": [],
   "source": [
    "def StatisticalTest(c,df1,rows):\n",
    "    null = {key : [] for key,value in c.items()}\n",
    "    z_score, p_value = {}, {}\n",
    "    \n",
    "    for i in range(1000):\n",
    "      tmp = df1.sample(n=rows)\n",
    "      words = \",\".join([each for each in tmp['list of cognitive terms'] if type(each) == str])\n",
    "      words = [each.strip() for each in words.split(\",\")]\n",
    "      tmp_freq = Counter(words)\n",
    "      # print(tmp_freq)\n",
    "      for key,value in c.items():\n",
    "        if key in tmp_freq.keys():\n",
    "          null[key].append(tmp_freq[key])\n",
    "        if key not in tmp_freq.keys():\n",
    "          null[key].append(0)\n",
    "    \n",
    "    for key,value in c.items():\n",
    "      mean = np.mean(null[key])\n",
    "      std = np.std(null[key])\n",
    "      # if(std != 0):\n",
    "      z = (value - mean)/std\n",
    "      z_score[key] = z\n",
    "      p = scipy.stats.norm.sf(abs(z))*2\n",
    "      p_value[key] = p\n",
    "\n",
    "    fdr = {}\n",
    "    fdr_p = statsmodels.stats.multitest.multipletests(list(p_value.values()), alpha=0.05, method='fdr_bh', is_sorted=False, returnsorted=False)\n",
    "    count = 0\n",
    "    for each in p_value.keys():\n",
    "      fdr[each] = fdr_p[1][count]\n",
    "      count += 1\n",
    "    # print('length of fdr', len(fdr))\n",
    "\n",
    "    final = pd.DataFrame()\n",
    "    final['term'] = pd.Series(c.keys())\n",
    "    # print('Length of final', len(final))\n",
    "    final_freq, final_z_score, final_p_val, final_fdr_corrected = list(), list(), list(), list()\n",
    "    for each in c.keys():\n",
    "        final_freq.append(c[each])\n",
    "        if (each in z_score):\n",
    "            # print('yes', each)\n",
    "            final_z_score.append(z_score[each])\n",
    "            final_p_val.append(p_value[each])\n",
    "            final_fdr_corrected.append(fdr[each])\n",
    "    \n",
    "    final['freq'], final['z_score'], final['p_val'], final['fdr_corrected'] = final_freq, final_z_score, final_p_val, final_fdr_corrected\n",
    "    sig_terms = final[final['fdr_corrected'] < 0.05]\n",
    "    return sig_terms"
   ]
  },
  {
   "cell_type": "code",
   "execution_count": 4,
   "metadata": {
    "id": "KP6TCvKkrBwl"
   },
   "outputs": [
    {
     "name": "stdout",
     "output_type": "stream",
     "text": [
      "Number of nodes with sig diff in \"Visual\" is 12\n",
      "Number of unique different terms: 142 , Tolal terms: 230\n",
      "Number of sig different terms after FDR correction: 53\n",
      "Done for Visual --------------------------------------------------\n",
      "Number of nodes with sig diff in \"Somato Motor\" is 22\n",
      "Number of unique different terms: 226 , Tolal terms: 705\n",
      "Number of sig different terms after FDR correction: 74\n",
      "Done for Somato Motor --------------------------------------------------\n",
      "Number of nodes with sig diff in \"Dorsal Attention\" is 17\n",
      "Number of unique different terms: 260 , Tolal terms: 735\n",
      "Number of sig different terms after FDR correction: 106\n",
      "Done for Dorsal Attention --------------------------------------------------\n",
      "Number of nodes with sig diff in \"Salient Ventral Attention\" is 11\n",
      "Number of unique different terms: 181 , Tolal terms: 359\n",
      "Number of sig different terms after FDR correction: 37\n",
      "Done for Salient Ventral Attention --------------------------------------------------\n",
      "Number of nodes with sig diff in \"Limbic\" is 2\n",
      "Number of unique different terms: 24 , Tolal terms: 26\n",
      "Number of sig different terms after FDR correction: 18\n",
      "Done for Limbic --------------------------------------------------\n",
      "Number of nodes with sig diff in \"Control\" is 15\n",
      "Number of unique different terms: 175 , Tolal terms: 315\n",
      "Number of sig different terms after FDR correction: 58\n",
      "Done for Control --------------------------------------------------\n",
      "Number of nodes with sig diff in \"Default\" is 29\n",
      "Number of unique different terms: 318 , Tolal terms: 861\n",
      "Number of sig different terms after FDR correction: 118\n",
      "Done for Default --------------------------------------------------\n"
     ]
    }
   ],
   "source": [
    "rsns = [ 'Visual', 'Somato Motor', 'Dorsal Attention', 'Salient Ventral Attention', 'Limbic', 'Control', 'Default']\n",
    "to_remove = [\"oddball\",\"ptsd\",\"motor sma\",\"temporal\",\"v5\",\"sts\",\"psts\",\"pre supplementary\",\"pareital\",\"ofc\",\"network dmn\",\"negative neutral\",\"mt\",\"mm\",\n",
    "             \"mci\",\"loop\",\"fusiform face\",\"face ffa\",\"extrastriate\",\"autonomic\",\"vpmfc\",\"vmpfc\",\"vlpfc\",\"v5\",\"suppressed\",\"supplementary\",\"sts\",\"stream\",\n",
    "             \"stimulation tms\",\"sii\",\"resting state\",\"psts\",\"pre supplementary\",\"ppc\",\"pfc\",\"pcc\",\"parietal\",\"ofc\",\"neutral\",\"network dmn\",\"mtg\",\"mt\",\n",
    "             \"mpfc\",\"mci\",\"loop\",\"ifg\",\"fusiform face\",\"functional connectivity\",\"face ffa\",\"extrastriate\",\"electrical\",\"dmn\",\"default mode\",\n",
    "             \"default network\",\"cortex supplementary\",\"cortex mpfc\",\"connectivity\",\"broca\",\"acc\",\"sma\",\"supplementary motor\",\"connectivity\",\n",
    "             \"dorsal attention\",\"ifg\",\"mpfc\",\"pfc\",\"alzheimar\",\"alzheimer\"]\n",
    "\n",
    "outpath = '../OutputFiles/PosCorr/NeurosynthAnalysis/'\n",
    "for rsn in rsns:\n",
    "    df = df1_sorted[df1_sorted['RSN'].str.contains(rsn)]\n",
    "    # print(len(df))\n",
    "    rows = df.shape[0]\n",
    "    if rows != 0:\n",
    "        print(f'Number of nodes with sig diff in \"{rsn}\" is', rows)#, df_updated['list of cognitive terms'])\n",
    "        rois = \",\".join([each for each in df['list of cognitive terms'] if type(each) == str])\n",
    "        rois = [each.strip() for each in rois.split(\",\")]\n",
    "        \n",
    "        c = Counter(rois)\n",
    "        # print(len(c))\n",
    "        c = dict(c)\n",
    "        if ('' in c) : c.pop('')\n",
    "        print('Number of unique different terms:', len(c), ', Tolal terms:', sum(c.values()))\n",
    "        \n",
    "        for each in to_remove:\n",
    "          try:\n",
    "            c.pop(each)\n",
    "          except:\n",
    "            continue\n",
    "         \n",
    "        sig_terms = StatisticalTest(c,df1,rows)\n",
    "        print('Number of sig different terms after FDR correction:', len(sig_terms))\n",
    "        sig_terms.to_csv(outpath + f'{dataset}_{rsn}_SignificantcognitiveTerms_FDRcorrected.txt', sep = \"\\t\", index = False)\n",
    "    else:\n",
    "        print(f'Number of nodes with sig diff in \"{rsn}\" is', rows)\n",
    "    print(f'Done for {rsn}', '-'*50)\n",
    "    # break"
   ]
  },
  {
   "cell_type": "code",
   "execution_count": 5,
   "metadata": {},
   "outputs": [
    {
     "data": {
      "text/plain": [
       "'../OutputFiles/PosCorr/NeurosynthAnalaysis/'"
      ]
     },
     "execution_count": 5,
     "metadata": {},
     "output_type": "execute_result"
    }
   ],
   "source": [
    "outpath"
   ]
  },
  {
   "cell_type": "code",
   "execution_count": null,
   "metadata": {},
   "outputs": [],
   "source": []
  }
 ],
 "metadata": {
  "colab": {
   "name": "NeurosynthAnalaysis.ipynb",
   "provenance": []
  },
  "kernelspec": {
   "display_name": "Python 3 (ipykernel)",
   "language": "python",
   "name": "python3"
  },
  "language_info": {
   "codemirror_mode": {
    "name": "ipython",
    "version": 3
   },
   "file_extension": ".py",
   "mimetype": "text/x-python",
   "name": "python",
   "nbconvert_exporter": "python",
   "pygments_lexer": "ipython3",
   "version": "3.11.7"
  }
 },
 "nbformat": 4,
 "nbformat_minor": 4
}
