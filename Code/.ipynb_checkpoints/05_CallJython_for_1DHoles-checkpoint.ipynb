{
 "cells": [
  {
   "cell_type": "code",
   "execution_count": 1,
   "id": "459c51ba-021d-482b-a3ee-a3e0e274edb7",
   "metadata": {},
   "outputs": [],
   "source": [
    "from subprocess import call, Popen, PIPE\n",
    "import os, time, ast\n",
    "import pandas as pd\n",
    "import numpy as np\n",
    "import pickle as pkl"
   ]
  },
  {
   "cell_type": "code",
   "execution_count": null,
   "id": "189fde6a-9023-4015-8704-f7a2aa3e8f47",
   "metadata": {},
   "outputs": [],
   "source": [
    "# dataset = 'MPI_LEMON'\n",
    "dataset = 'ABIDE'\n",
    "\n",
    "path_file = f'../Data/{dataset}/FCM_DistMat/'  ## Path of distance matrices\n",
    "files_list = os.listdir(path_file)\n",
    "print(dataset, len(files_list))"
   ]
  },
  {
   "cell_type": "markdown",
   "id": "afb36918-435c-4f09-a298-8e78cbf82b9a",
   "metadata": {},
   "source": [
    "## Call Jython script to get the representative cycle of one-dimentional holes\n",
    "Javaplex and Jython are needed to run this code"
   ]
  },
  {
   "cell_type": "markdown",
   "id": "f912100c-667a-4cde-89fb-918697a1744a",
   "metadata": {},
   "source": [
    "Store the edges of one-dimensional holes along with birth death values in f'../OutputFiles/PosCorr/{dataset}/Holes_1D_Javaplex/' folder"
   ]
  },
  {
   "cell_type": "code",
   "execution_count": 3,
   "id": "280d0c61-0e35-434e-925e-4b925d9d2539",
   "metadata": {},
   "outputs": [
    {
     "name": "stdout",
     "output_type": "stream",
     "text": [
      "Standard Output:\n",
      " ('0  Done for 51491  len of unique_distances:', 18637, '(200, 168)  Time: ', 24.33899998664856)\n",
      "Done.\n",
      "\n",
      "Jython script executed successfully! 25.828099489212036\n",
      "Done for ABIDE 25.828099489212036 --------------------------------------------------------------------\n",
      "../Data/ABIDE/FCM_DistMat/\n"
     ]
    }
   ],
   "source": [
    "t1 = time.time()\n",
    "code = \"jython_code_VRcomp_global_PosCorr.py\"  ## jython script to get the one-dimensional holes using javaplex\n",
    "max_filtration_value = str(np.sqrt(2))\n",
    "max_dimension = str(2)\n",
    "command = [\"java\",  \n",
    "    \"-Djava.class.path=C:/jython2.7.3/jython.jar;C:/Users/hp/Documents/GitHub/NodePersistence_PH_FCM/Code/lib/javaplex.jar\",\n",
    "    \"org.python.util.jython\",\n",
    "    code, dataset, path_file, max_filtration_value, max_dimension]\n",
    "\n",
    "process = Popen(command, stdout=PIPE, stderr=PIPE, text=True)\n",
    "stdout, stderr = process.communicate()\n",
    "if stdout:\n",
    "    print(\"Standard Output:\\n\", stdout)\n",
    "if stderr:\n",
    "    print(\"Error Output:\\n\", stderr)\n",
    "\n",
    "if process.returncode != 0:\n",
    "    print(f\"Subprocess exited with error code {process.returncode}\")\n",
    "else:\n",
    "    print(\"Jython script executed successfully!\", time.time()-t1)\n",
    "\n",
    "print('Done for',dataset, time.time()-t1, '-'*68)\n",
    "print(path_file)"
   ]
  },
  {
   "cell_type": "code",
   "execution_count": null,
   "id": "61e2ffbe-811a-4532-adcd-03841d9ec18c",
   "metadata": {},
   "outputs": [],
   "source": []
  }
 ],
 "metadata": {
  "kernelspec": {
   "display_name": "Python 3 (ipykernel)",
   "language": "python",
   "name": "python3"
  },
  "language_info": {
   "codemirror_mode": {
    "name": "ipython",
    "version": 3
   },
   "file_extension": ".py",
   "mimetype": "text/x-python",
   "name": "python",
   "nbconvert_exporter": "python",
   "pygments_lexer": "ipython3",
   "version": "3.11.7"
  }
 },
 "nbformat": 4,
 "nbformat_minor": 5
}
