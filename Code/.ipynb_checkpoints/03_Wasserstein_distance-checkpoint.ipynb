{
 "cells": [
  {
   "cell_type": "code",
   "execution_count": 1,
   "id": "59d00a07-da93-44d1-bc63-a0904bc6af61",
   "metadata": {},
   "outputs": [],
   "source": [
    "import gudhi as gd\n",
    "import numpy as np\n",
    "import pandas as pd\n",
    "import os, time, math\n",
    "import pickle as pkl\n",
    "from gudhi.wasserstein import wasserstein_distance\n",
    "from itertools import combinations, product\n",
    "#import matplotlib.pyplot as plt"
   ]
  },
  {
   "cell_type": "code",
   "execution_count": 2,
   "id": "ac6c23f3-34f9-4963-84c9-2548d52983e5",
   "metadata": {},
   "outputs": [
    {
     "name": "stdout",
     "output_type": "stream",
     "text": [
      "820 820 ABIDE1_CALTECH_51491.csv <class 'dict'> 820\n",
      "7 [29, 35, 26, 22, 12, 30, 46] ['Visual', 'Somato Motor', 'Dorsal Attention', 'Salient Ventral Attention', 'Limbic', 'Control', 'Default']\n"
     ]
    }
   ],
   "source": [
    "# dataset = 'MPI_LEMON'\n",
    "dataset = 'ABIDE'\n",
    "path_file = f'../PersistentHomology_fMRIdata/Data/{dataset}/FCM_DistMat/'\n",
    "\n",
    "files_list = os.listdir(path_file)\n",
    "all_subs_dict = {name.split('.')[0].split('_')[-1]:order for order,name in enumerate(files_list)}\n",
    "print(len(files_list), len(all_subs_dict), files_list[0], type(all_subs_dict), len(all_subs_dict))\n",
    "\n",
    "RSNs_details = pd.read_csv('../PersistentHomology_fMRIdata/Data/SchaeferAtlas_Regions_details.csv')\n",
    "RSNs7 = RSNs_details['RSN'].unique().tolist()\n",
    "result_dict = {key: RSNs_details.loc[RSNs_details['RSN'] == key, 'Node_number'].tolist() for key in RSNs_details['RSN'].unique()}\n",
    "print(len(result_dict),[ len(x) for x in result_dict.values()],RSNs7)"
   ]
  },
  {
   "cell_type": "code",
   "execution_count": 3,
   "id": "f90920da-396b-4f1d-8755-e6e55e71eadd",
   "metadata": {},
   "outputs": [
    {
     "name": "stdout",
     "output_type": "stream",
     "text": [
      "ASD 395 \t Healthy 425 \tTotal: 820\n",
      "50601 50551 335790\n"
     ]
    }
   ],
   "source": [
    "if dataset == 'MPI_LEMON':\n",
    "    Detailsfile = pd.read_csv('../PersistentHomology_fMRIdata/Data/MPI_LEMON/MPILemon_Subject_details.csv')\n",
    "    Young = list(map(str, list(Detailsfile.loc[Detailsfile['Cohort'] == 'Young','Subject'])))\n",
    "    Elder = list(map(str, list(Detailsfile.loc[Detailsfile['Cohort'] == 'Elderly','Subject'])))\n",
    "    All_subs = Young + Elder\n",
    "    Group1, Group2 = 'Young', 'Elderly'\n",
    "    GR1, GR2 = Young, Elder\n",
    "\n",
    "elif dataset == 'ABIDE':\n",
    "    Detailsfile = pd.read_csv('../PersistentHomology_fMRIdata/Data/ABIDE/ABIDE_Subject_details.csv')\n",
    "    ASD = list(map(str, list(Detailsfile.loc[Detailsfile['Cohort'] == 'ASD','Subject identifier'])))\n",
    "    Healthy = list(map(str, list(Detailsfile.loc[Detailsfile['Cohort'] == 'HC','Subject identifier'])))\n",
    "    All_subs = ASD + Healthy\n",
    "    Group1, Group2 = 'ASD', 'Healthy'\n",
    "    GR1, GR2 = ASD, Healthy\n",
    "\n",
    "print(Group1, len(GR1), '\\t', Group2, len(GR2), '\\tTotal:', len(All_subs))\n",
    "print(GR1[0], GR2[0], math.comb(820,2))"
   ]
  },
  {
   "cell_type": "code",
   "execution_count": 4,
   "id": "096d6e53-87f3-41ff-82b9-9a182e755f86",
   "metadata": {},
   "outputs": [
    {
     "name": "stdout",
     "output_type": "stream",
     "text": [
      "ASD 395 77815 ('50601', '50602') \n",
      " Healthy 425 90100 ('50551', '50552') \n",
      " Both groups 820 167875 ('50601', '50551') \n",
      " total_combinations: 335790 335790\n"
     ]
    }
   ],
   "source": [
    "all_combinations_ingroup1 = list(combinations(GR1,2))\n",
    "all_combinations_ingroup2 = list(combinations(GR2,2))\n",
    "all_combinations_betweengroups = list(product(GR1, GR2))\n",
    "all_combinations_len = len(all_combinations_ingroup1) + len(all_combinations_ingroup2) + len(all_combinations_betweengroups)\n",
    "\n",
    "print(Group1, len(GR1), len(all_combinations_ingroup1), all_combinations_ingroup1[0], '\\n',\n",
    "      Group2, len(GR2), len(all_combinations_ingroup2), all_combinations_ingroup2[0], '\\n',\n",
    "      'Both groups', len(All_subs), len(all_combinations_betweengroups), all_combinations_betweengroups[0], \n",
    "      '\\n total_combinations:', all_combinations_len, math.comb(len(All_subs),2))"
   ]
  },
  {
   "cell_type": "markdown",
   "id": "6d24a739-37b6-4f93-90cf-f98f2f7afc99",
   "metadata": {},
   "source": [
    "### Global level"
   ]
  },
  {
   "cell_type": "code",
   "execution_count": null,
   "id": "2950b55b-d3ca-4974-a146-38b4a9a296c8",
   "metadata": {},
   "outputs": [],
   "source": [
    "# path = f'../PersistentHomology_fMRIdata/OutputFiles/Positive_weight/{dataset}/'\n",
    "# outpath = f'../OutputFiles_Javaplex/PosCorr/{dataset}/'\n",
    "\n",
    "path = f'../PersistentHomology_fMRIdata/OutputFiles/{dataset}/'\n",
    "outpath = f'../OutputFiles_Javaplex/{dataset}/'\n",
    "\n",
    "with open(path +f'barcode1_list.pkl','rb') as f:\n",
    "    barcode1_list = pkl.load(f)"
   ]
  },
  {
   "cell_type": "code",
   "execution_count": 6,
   "id": "23e8da86-cc55-4d5c-888c-bfde1dd7d9c6",
   "metadata": {},
   "outputs": [
    {
     "name": "stdout",
     "output_type": "stream",
     "text": [
      "ABIDE ../OutputFiles_Javaplex/ABIDE/ Wasserstein_distance_ingroup_ASD ASD_sub1 ASD_sub2\n",
      "Done for  Wasserstein_distance_ingroup_ASD 1557.2989509105682\n"
     ]
    }
   ],
   "source": [
    "combination_list, outfile, C1, C2 = all_combinations_ingroup1, f'Wasserstein_distance_ingroup_{Group1}', f'{Group1}_sub1', f'{Group1}_sub2'\n",
    "# combination_list, outfile, C1, C2 = all_combinations_ingroup2, f'Wasserstein_distance_ingroup_{Group2}', f'{Group2}_sub1', f'{Group2}_sub2'\n",
    "# combination_list, outfile, C1, C2 = all_combinations_betweengroups, f'Wasserstein_distance_betweengroups_{Group1}_{Group2}', f'{Group1}', f'{Group2}'\n",
    "\n",
    "print(dataset, outpath,  outfile, C1, C2)\n",
    "outdf = {C1:[], C2:[], '1_wasserstein_distance':[], '2_wasserstein_distance':[], 'bottleneck_distance':[]}\n",
    " \n",
    "t0 = time.time()\n",
    "for sub1,sub2 in combination_list:\n",
    "    indx1, indx2 = all_subs_dict[sub1], all_subs_dict[sub2]\n",
    "    dgm1 = barcode1_list[indx1][sub1]\n",
    "    dgm2 = barcode1_list[indx2][sub2]\n",
    "    # print(sub1, sub2, indx1, indx2, len(dgm1), len(dgm2))\n",
    "    wasserstein_distance1 = wasserstein_distance(dgm1, dgm2, order=1)\n",
    "    wasserstein_distance2 = wasserstein_distance(dgm1, dgm2, order=2)\n",
    "    bottleneck_distance = gd.bottleneck_distance(dgm1, dgm2)\n",
    "    outdf[C1].append(sub1)\n",
    "    outdf[C2].append(sub2)\n",
    "    outdf['1_wasserstein_distance'].append(wasserstein_distance1)\n",
    "    outdf['2_wasserstein_distance'].append(wasserstein_distance2)\n",
    "    outdf['bottleneck_distance'].append(bottleneck_distance)\n",
    "    #print('wasserstein_distance1  ', wasserstein_distance1, 'wasserstein_distance2  ', wasserstein_distance2,'bottleneck_distance  ',bottleneck_distance )\n",
    "    break\n",
    "\n",
    "pd.DataFrame(outdf).to_csv(outpath + f'Z_{outfile}.txt', sep = '\\t', index=None)\n",
    "print('Done for ', outfile, time.time() -t0)"
   ]
  },
  {
   "cell_type": "code",
   "execution_count": 10,
   "id": "9a396c44-7fef-4938-b052-715f4b7f35b3",
   "metadata": {},
   "outputs": [
    {
     "data": {
      "text/html": [
       "<div>\n",
       "<style scoped>\n",
       "    .dataframe tbody tr th:only-of-type {\n",
       "        vertical-align: middle;\n",
       "    }\n",
       "\n",
       "    .dataframe tbody tr th {\n",
       "        vertical-align: top;\n",
       "    }\n",
       "\n",
       "    .dataframe thead th {\n",
       "        text-align: right;\n",
       "    }\n",
       "</style>\n",
       "<table border=\"1\" class=\"dataframe\">\n",
       "  <thead>\n",
       "    <tr style=\"text-align: right;\">\n",
       "      <th></th>\n",
       "      <th>ASD_sub1</th>\n",
       "      <th>ASD_sub2</th>\n",
       "      <th>1_wasserstein_distance</th>\n",
       "      <th>2_wasserstein_distance</th>\n",
       "      <th>bottleneck_distance</th>\n",
       "    </tr>\n",
       "  </thead>\n",
       "  <tbody>\n",
       "    <tr>\n",
       "      <th>0</th>\n",
       "      <td>50601</td>\n",
       "      <td>50602</td>\n",
       "      <td>3.816973</td>\n",
       "      <td>0.309521</td>\n",
       "      <td>0.076545</td>\n",
       "    </tr>\n",
       "    <tr>\n",
       "      <th>1</th>\n",
       "      <td>50601</td>\n",
       "      <td>50603</td>\n",
       "      <td>3.702369</td>\n",
       "      <td>0.329487</td>\n",
       "      <td>0.089434</td>\n",
       "    </tr>\n",
       "    <tr>\n",
       "      <th>2</th>\n",
       "      <td>50601</td>\n",
       "      <td>50604</td>\n",
       "      <td>4.561162</td>\n",
       "      <td>0.383814</td>\n",
       "      <td>0.104638</td>\n",
       "    </tr>\n",
       "    <tr>\n",
       "      <th>3</th>\n",
       "      <td>50601</td>\n",
       "      <td>50605</td>\n",
       "      <td>2.571120</td>\n",
       "      <td>0.246141</td>\n",
       "      <td>0.067157</td>\n",
       "    </tr>\n",
       "    <tr>\n",
       "      <th>4</th>\n",
       "      <td>50601</td>\n",
       "      <td>50606</td>\n",
       "      <td>2.567787</td>\n",
       "      <td>0.248827</td>\n",
       "      <td>0.060002</td>\n",
       "    </tr>\n",
       "    <tr>\n",
       "      <th>...</th>\n",
       "      <td>...</td>\n",
       "      <td>...</td>\n",
       "      <td>...</td>\n",
       "      <td>...</td>\n",
       "      <td>...</td>\n",
       "    </tr>\n",
       "    <tr>\n",
       "      <th>77810</th>\n",
       "      <td>50529</td>\n",
       "      <td>50531</td>\n",
       "      <td>2.719615</td>\n",
       "      <td>0.217701</td>\n",
       "      <td>0.042856</td>\n",
       "    </tr>\n",
       "    <tr>\n",
       "      <th>77811</th>\n",
       "      <td>50529</td>\n",
       "      <td>50532</td>\n",
       "      <td>3.085471</td>\n",
       "      <td>0.243742</td>\n",
       "      <td>0.043377</td>\n",
       "    </tr>\n",
       "    <tr>\n",
       "      <th>77812</th>\n",
       "      <td>50530</td>\n",
       "      <td>50531</td>\n",
       "      <td>2.791110</td>\n",
       "      <td>0.227207</td>\n",
       "      <td>0.044083</td>\n",
       "    </tr>\n",
       "    <tr>\n",
       "      <th>77813</th>\n",
       "      <td>50530</td>\n",
       "      <td>50532</td>\n",
       "      <td>2.808056</td>\n",
       "      <td>0.224667</td>\n",
       "      <td>0.049778</td>\n",
       "    </tr>\n",
       "    <tr>\n",
       "      <th>77814</th>\n",
       "      <td>50531</td>\n",
       "      <td>50532</td>\n",
       "      <td>4.446356</td>\n",
       "      <td>0.310604</td>\n",
       "      <td>0.044172</td>\n",
       "    </tr>\n",
       "  </tbody>\n",
       "</table>\n",
       "<p>77815 rows × 5 columns</p>\n",
       "</div>"
      ],
      "text/plain": [
       "      ASD_sub1 ASD_sub2  1_wasserstein_distance  2_wasserstein_distance  \\\n",
       "0        50601    50602                3.816973                0.309521   \n",
       "1        50601    50603                3.702369                0.329487   \n",
       "2        50601    50604                4.561162                0.383814   \n",
       "3        50601    50605                2.571120                0.246141   \n",
       "4        50601    50606                2.567787                0.248827   \n",
       "...        ...      ...                     ...                     ...   \n",
       "77810    50529    50531                2.719615                0.217701   \n",
       "77811    50529    50532                3.085471                0.243742   \n",
       "77812    50530    50531                2.791110                0.227207   \n",
       "77813    50530    50532                2.808056                0.224667   \n",
       "77814    50531    50532                4.446356                0.310604   \n",
       "\n",
       "       bottleneck_distance  \n",
       "0                 0.076545  \n",
       "1                 0.089434  \n",
       "2                 0.104638  \n",
       "3                 0.067157  \n",
       "4                 0.060002  \n",
       "...                    ...  \n",
       "77810             0.042856  \n",
       "77811             0.043377  \n",
       "77812             0.044083  \n",
       "77813             0.049778  \n",
       "77814             0.044172  \n",
       "\n",
       "[77815 rows x 5 columns]"
      ]
     },
     "execution_count": 10,
     "metadata": {},
     "output_type": "execute_result"
    }
   ],
   "source": [
    "pd.DataFrame(outdf)\n",
    "# outdf"
   ]
  },
  {
   "cell_type": "markdown",
   "id": "52658bbd-1cc5-477c-9b0c-f859bee82324",
   "metadata": {},
   "source": [
    "### RSNs level"
   ]
  },
  {
   "cell_type": "code",
   "execution_count": 5,
   "id": "fbca3d60-effa-43eb-9673-d627d8c8a1f8",
   "metadata": {},
   "outputs": [
    {
     "name": "stdout",
     "output_type": "stream",
     "text": [
      "ABIDE Wasserstein_distance_ingroup_ASD ASD_sub1 ASD_sub2\n",
      "Done for  Visual 0.02372598648071289\n",
      "Done for  SomatoMotor 0.0\n",
      "Done for  DorsalAttention 0.005920886993408203\n",
      "Done for  SalientVentralAttention 0.0049724578857421875\n",
      "Done for  Limbic 0.0\n",
      "Done for  Control 0.0\n",
      "Done for  Default 0.0\n",
      "Done for  Wasserstein_distance_ingroup_ASD 0.1674952507019043\n"
     ]
    }
   ],
   "source": [
    "combination_list, outfile, C1, C2 = all_combinations_ingroup1, f'Wasserstein_distance_ingroup_{Group1}', f'{Group1}_sub1', f'{Group1}_sub2'\n",
    "# combination_list, outfile, C1, C2 = all_combinations_ingroup2, f'Wasserstein_distance_ingroup_{Group2}', f'{Group2}_sub1', f'{Group2}_sub2'\n",
    "# combination_list, outfile, C1, C2 = all_combinations_betweengroups, f'Wasserstein_distance_betweengroups_{Group1}_{Group2}', f'{Group1}', f'{Group2}'\n",
    "\n",
    "print(dataset, outfile, C1, C2)\n",
    "t0 = time.time()\n",
    "for RSN in RSNs7:\n",
    "    rsn = RSN.replace(' ','')\n",
    "    path = f'../OutputFiles_Javaplex/PosCorr/{dataset}/Barcodes_GlobalMeasures/RSNs/{rsn}/'\n",
    "    with open(path +f'{rsn}_barcode1_list.pkl','rb') as f:\n",
    "        barcode1_list = pkl.load(f)\n",
    "        \n",
    "    outdf = {C1:[], C2:[], '1_wasserstein_distance':[], '2_wasserstein_distance':[], 'bottleneck_distance':[]}\n",
    "    t1 = time.time()\n",
    "    for sub1,sub2 in combination_list:\n",
    "        indx1, indx2 = all_subs_dict[sub1], all_subs_dict[sub2]\n",
    "        dgm1 = barcode1_list[indx1][sub1]\n",
    "        dgm2 = barcode1_list[indx2][sub2]\n",
    "        # print(sub1, sub2, indx1, indx2, len(dgm1), len(dgm2))\n",
    "        wasserstein_distance1 = wasserstein_distance(dgm1, dgm2, order=1)\n",
    "        wasserstein_distance2 = wasserstein_distance(dgm1, dgm2, order=2)\n",
    "        bottleneck_distance = gd.bottleneck_distance(dgm1, dgm2)\n",
    "        outdf[C1].append(sub1)\n",
    "        outdf[C2].append(sub2)\n",
    "        outdf['1_wasserstein_distance'].append(wasserstein_distance1)\n",
    "        outdf['2_wasserstein_distance'].append(wasserstein_distance2)\n",
    "        outdf['bottleneck_distance'].append(bottleneck_distance)\n",
    "        #print('wasserstein_distance1  ', wasserstein_distance1, 'wasserstein_distance2  ', wasserstein_distance2,'bottleneck_distance  ',bottleneck_distance )\n",
    "        # break\n",
    "\n",
    "    pd.DataFrame(outdf).to_csv(path + f'A_{rsn}_{outfile}.txt', sep = '\\t', index=None)\n",
    "    print('Done for ', rsn, time.time() -t1)\n",
    "    \n",
    "print('Done for ', outfile, time.time() -t0)"
   ]
  },
  {
   "cell_type": "code",
   "execution_count": null,
   "id": "9202118d-ece4-4c00-b079-aabe8853ba22",
   "metadata": {},
   "outputs": [],
   "source": []
  }
 ],
 "metadata": {
  "kernelspec": {
   "display_name": "Python 3 (ipykernel)",
   "language": "python",
   "name": "python3"
  },
  "language_info": {
   "codemirror_mode": {
    "name": "ipython",
    "version": 3
   },
   "file_extension": ".py",
   "mimetype": "text/x-python",
   "name": "python",
   "nbconvert_exporter": "python",
   "pygments_lexer": "ipython3",
   "version": "3.11.7"
  }
 },
 "nbformat": 4,
 "nbformat_minor": 5
}
