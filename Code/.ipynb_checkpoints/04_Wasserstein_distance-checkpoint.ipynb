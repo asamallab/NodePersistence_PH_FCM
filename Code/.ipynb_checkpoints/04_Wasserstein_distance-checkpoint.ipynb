{
 "cells": [
  {
   "cell_type": "code",
   "execution_count": 1,
   "id": "59d00a07-da93-44d1-bc63-a0904bc6af61",
   "metadata": {},
   "outputs": [],
   "source": [
    "import gudhi as gd\n",
    "import numpy as np\n",
    "import pandas as pd\n",
    "import os, time, math\n",
    "import pickle as pkl\n",
    "from gudhi.wasserstein import wasserstein_distance\n",
    "from itertools import combinations, product"
   ]
  },
  {
   "cell_type": "code",
   "execution_count": 2,
   "id": "a6827f49-1f1b-4459-8c8c-36922df33f6d",
   "metadata": {},
   "outputs": [],
   "source": [
    "dataset = 'MPI_LEMON'\n",
    "# dataset = 'ABIDE'\n",
    "\n",
    "CorrType = 'PosCorr'\n",
    "# CorrType = 'AllCorr'"
   ]
  },
  {
   "cell_type": "markdown",
   "id": "295375b8-6c10-4ecc-a879-c3bd2057d0d2",
   "metadata": {},
   "source": [
    "# Data"
   ]
  },
  {
   "cell_type": "code",
   "execution_count": null,
   "id": "ac6c23f3-34f9-4963-84c9-2548d52983e5",
   "metadata": {},
   "outputs": [],
   "source": [
    "path_file = f'../Data/{dataset}/FCM_DistMat/' \n",
    "\n",
    "files_list = os.listdir(path_file)\n",
    "all_subs_dict = {name.split('.')[0].split('_')[-1]:order for order,name in enumerate(files_list)}\n",
    "print(dataset, len(files_list))\n",
    "\n",
    "RSNs_details = pd.read_csv('../Data/SchaeferAtlas_Regions_details.csv')\n",
    "RSNs7 = RSNs_details['RSN'].unique().tolist()\n",
    "result_dict = {key: RSNs_details.loc[RSNs_details['RSN'] == key, 'Node_number'].tolist() for key in RSNs_details['RSN'].unique()}\n",
    "print(len(result_dict),[ len(x) for x in result_dict.values()],RSNs7)"
   ]
  },
  {
   "cell_type": "code",
   "execution_count": 4,
   "id": "f90920da-396b-4f1d-8755-e6e55e71eadd",
   "metadata": {},
   "outputs": [
    {
     "name": "stdout",
     "output_type": "stream",
     "text": [
      "Young 153 \t Elderly 72 \tTotal: 225\n",
      "32302 32301 335790\n"
     ]
    }
   ],
   "source": [
    "if dataset == 'MPI_LEMON':\n",
    "    Detailsfile = pd.read_csv('../Data/MPI_LEMON/MPILemon_Subject_details.csv')\n",
    "    Young = list(map(str, list(Detailsfile.loc[Detailsfile['Cohort'] == 'Young','Subject'])))\n",
    "    Elder = list(map(str, list(Detailsfile.loc[Detailsfile['Cohort'] == 'Elderly','Subject'])))\n",
    "    All_subs = Young + Elder\n",
    "    Group1, Group2 = 'Young', 'Elderly'\n",
    "    GR1, GR2 = Young, Elder\n",
    "\n",
    "elif dataset == 'ABIDE':\n",
    "    Detailsfile = pd.read_csv('../Data/ABIDE/ABIDE_Subject_details.csv')\n",
    "    ASD = list(map(str, list(Detailsfile.loc[Detailsfile['Cohort'] == 'ASD','Subject identifier'])))\n",
    "    Healthy = list(map(str, list(Detailsfile.loc[Detailsfile['Cohort'] == 'HC','Subject identifier'])))\n",
    "    All_subs = ASD + Healthy\n",
    "    Group1, Group2 = 'ASD', 'Healthy'\n",
    "    GR1, GR2 = ASD, Healthy\n",
    "\n",
    "print(Group1, len(GR1), '\\t', Group2, len(GR2), '\\tTotal:', len(All_subs))\n",
    "print(GR1[0], GR2[0], math.comb(820,2))"
   ]
  },
  {
   "cell_type": "code",
   "execution_count": 5,
   "id": "096d6e53-87f3-41ff-82b9-9a182e755f86",
   "metadata": {},
   "outputs": [
    {
     "name": "stdout",
     "output_type": "stream",
     "text": [
      "Young 153 11628 ('32302', '32304') \n",
      " Elderly 72 2556 ('32301', '32303') \n",
      " Both groups 225 11016 ('32302', '32301') \n",
      " total_combinations: 25200 25200\n"
     ]
    }
   ],
   "source": [
    "all_combinations_ingroup1 = list(combinations(GR1,2))\n",
    "all_combinations_ingroup2 = list(combinations(GR2,2))\n",
    "all_combinations_betweengroups = list(product(GR1, GR2))\n",
    "all_combinations_len = len(all_combinations_ingroup1) + len(all_combinations_ingroup2) + len(all_combinations_betweengroups)\n",
    "\n",
    "print(Group1, len(GR1), len(all_combinations_ingroup1), all_combinations_ingroup1[0], '\\n',\n",
    "      Group2, len(GR2), len(all_combinations_ingroup2), all_combinations_ingroup2[0], '\\n',\n",
    "      'Both groups', len(All_subs), len(all_combinations_betweengroups), all_combinations_betweengroups[0], \n",
    "      '\\n total_combinations:', all_combinations_len, math.comb(len(All_subs),2))"
   ]
  },
  {
   "cell_type": "markdown",
   "id": "6d24a739-37b6-4f93-90cf-f98f2f7afc99",
   "metadata": {},
   "source": [
    "### Global level"
   ]
  },
  {
   "cell_type": "markdown",
   "id": "d25bbf8a-14c8-44a1-9c2e-d878bbe281fa",
   "metadata": {},
   "source": [
    "Calculates the 1-wasserstein, 2-wasserstein, and Bottleneck distances separately for intra-group and inter-group persistence diagrams"
   ]
  },
  {
   "cell_type": "code",
   "execution_count": null,
   "id": "23e8da86-cc55-4d5c-888c-bfde1dd7d9c6",
   "metadata": {},
   "outputs": [
    {
     "name": "stdout",
     "output_type": "stream",
     "text": [
      "MPI_LEMON ../OutputFiles/AllCorr/MPI_LEMON/ Wasserstein_distance_ingroup_Elderly Elderly_sub1 Elderly_sub2\n"
     ]
    }
   ],
   "source": [
    "path = f'../OutputFiles/{CorrType}/{dataset}/'\n",
    "\n",
    "with open(path +f'barcode1_list.pkl','rb') as f:\n",
    "    barcode1_list = pkl.load(f)\n",
    "\n",
    "# combination_list, outfile, C1, C2 = all_combinations_ingroup1, f'Wasserstein_distance_ingroup_{Group1}', f'{Group1}_sub1', f'{Group1}_sub2'\n",
    "combination_list, outfile, C1, C2 = all_combinations_ingroup2, f'Wasserstein_distance_ingroup_{Group2}', f'{Group2}_sub1', f'{Group2}_sub2'\n",
    "# combination_list, outfile, C1, C2 = all_combinations_betweengroups, f'Wasserstein_distance_betweengroups_{Group1}_{Group2}', f'{Group1}', f'{Group2}'\n",
    "\n",
    "print(dataset, path,  outfile, C1, C2)\n",
    "outdf = {C1:[], C2:[], '1_wasserstein_distance':[], '2_wasserstein_distance':[], 'bottleneck_distance':[]}\n",
    " \n",
    "t0 = time.time()\n",
    "for sub1,sub2 in combination_list:\n",
    "    indx1, indx2 = all_subs_dict[sub1], all_subs_dict[sub2]\n",
    "    dgm1 = barcode1_list[indx1][sub1]\n",
    "    dgm2 = barcode1_list[indx2][sub2]\n",
    "    # print(sub1, sub2, indx1, indx2, len(dgm1), len(dgm2))\n",
    "    wasserstein_distance1 = wasserstein_distance(dgm1, dgm2, order=1)\n",
    "    wasserstein_distance2 = wasserstein_distance(dgm1, dgm2, order=2)\n",
    "    bottleneck_distance = gd.bottleneck_distance(dgm1, dgm2)\n",
    "    outdf[C1].append(sub1)\n",
    "    outdf[C2].append(sub2)\n",
    "    outdf['1_wasserstein_distance'].append(wasserstein_distance1)\n",
    "    outdf['2_wasserstein_distance'].append(wasserstein_distance2)\n",
    "    outdf['bottleneck_distance'].append(bottleneck_distance)\n",
    "    # break\n",
    "\n",
    "# pd.DataFrame(outdf).to_csv(path + f'{outfile}.txt', sep = '\\t', index=None)\n",
    "print('Done for ', outfile, time.time() -t0)"
   ]
  },
  {
   "cell_type": "code",
   "execution_count": null,
   "id": "9a396c44-7fef-4938-b052-715f4b7f35b3",
   "metadata": {},
   "outputs": [],
   "source": [
    "pd.DataFrame(outdf)\n",
    "# outdf"
   ]
  },
  {
   "cell_type": "markdown",
   "id": "52658bbd-1cc5-477c-9b0c-f859bee82324",
   "metadata": {},
   "source": [
    "### RSNs level"
   ]
  },
  {
   "cell_type": "markdown",
   "id": "2a7db0f1-0e5a-4db0-bab9-c9c2bd1fee32",
   "metadata": {},
   "source": [
    "Calculates the 1-wasserstein, 2-wasserstein, and Bottleneck distances separately for intra-group and inter-group persistence diagrams"
   ]
  },
  {
   "cell_type": "code",
   "execution_count": null,
   "id": "fbca3d60-effa-43eb-9673-d627d8c8a1f8",
   "metadata": {},
   "outputs": [
    {
     "name": "stdout",
     "output_type": "stream",
     "text": [
      "MPI_LEMON Wasserstein_distance_ingroup_Young Young_sub1 Young_sub2\n"
     ]
    }
   ],
   "source": [
    "# combination_list, outfile, C1, C2 = all_combinations_ingroup1, f'Wasserstein_distance_ingroup_{Group1}', f'{Group1}_sub1', f'{Group1}_sub2'\n",
    "combination_list, outfile, C1, C2 = all_combinations_ingroup2, f'Wasserstein_distance_ingroup_{Group2}', f'{Group2}_sub1', f'{Group2}_sub2'\n",
    "# combination_list, outfile, C1, C2 = all_combinations_betweengroups, f'Wasserstein_distance_betweengroups_{Group1}_{Group2}', f'{Group1}', f'{Group2}'\n",
    "\n",
    "print(dataset, outfile, C1, C2)\n",
    "t0 = time.time()\n",
    "for RSN in RSNs7:\n",
    "    rsn = RSN.replace(' ','')\n",
    "    path = f'../OutputFiles/PosCorr/{dataset}/Output_RSNs/{rsn}/'\n",
    "    with open(path +f'{rsn}_barcode1_list.pkl','rb') as f:\n",
    "        barcode1_list = pkl.load(f)\n",
    "        \n",
    "    outdf = {C1:[], C2:[], '1_wasserstein_distance':[], '2_wasserstein_distance':[], 'bottleneck_distance':[]}\n",
    "    t1 = time.time()\n",
    "    for sub1,sub2 in combination_list:\n",
    "        indx1, indx2 = all_subs_dict[sub1], all_subs_dict[sub2]\n",
    "        dgm1 = barcode1_list[indx1][sub1]\n",
    "        dgm2 = barcode1_list[indx2][sub2]\n",
    "        wasserstein_distance1 = wasserstein_distance(dgm1, dgm2, order=1)\n",
    "        wasserstein_distance2 = wasserstein_distance(dgm1, dgm2, order=2)\n",
    "        bottleneck_distance = gd.bottleneck_distance(dgm1, dgm2)\n",
    "        outdf[C1].append(sub1)\n",
    "        outdf[C2].append(sub2)\n",
    "        outdf['1_wasserstein_distance'].append(wasserstein_distance1)\n",
    "        outdf['2_wasserstein_distance'].append(wasserstein_distance2)\n",
    "        outdf['bottleneck_distance'].append(bottleneck_distance)\n",
    "        # break\n",
    "\n",
    "    pd.DataFrame(outdf).to_csv(path + f'{outfile}.txt', sep = '\\t', index=None)\n",
    "    print('Done for ', rsn, time.time() -t1)\n",
    "    \n",
    "print('Done for ', outfile, time.time() -t0)"
   ]
  },
  {
   "cell_type": "code",
   "execution_count": null,
   "id": "9202118d-ece4-4c00-b079-aabe8853ba22",
   "metadata": {},
   "outputs": [],
   "source": []
  }
 ],
 "metadata": {
  "kernelspec": {
   "display_name": "Python 3 (ipykernel)",
   "language": "python",
   "name": "python3"
  },
  "language_info": {
   "codemirror_mode": {
    "name": "ipython",
    "version": 3
   },
   "file_extension": ".py",
   "mimetype": "text/x-python",
   "name": "python",
   "nbconvert_exporter": "python",
   "pygments_lexer": "ipython3",
   "version": "3.11.7"
  }
 },
 "nbformat": 4,
 "nbformat_minor": 5
}
