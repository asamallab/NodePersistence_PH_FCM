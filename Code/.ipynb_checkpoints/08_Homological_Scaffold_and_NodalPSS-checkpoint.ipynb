{
 "cells": [
  {
   "cell_type": "markdown",
   "metadata": {},
   "source": [
    "# C. Elegans\n",
    "In this notebook we analyze a correlation network of neural activations of the nematode worm Caenorhabditis Elegans. C. Elegans has become a model organism due to the unique characteristic of each individual sharing the exact same nervous system structure. <br>\n",
    "The minimal homological scaffold of its brain map highlights the *geometry* of the obstruction patterns, i.e. the precise areas where nervous stimuli are less likely to flow. <br>\n",
    "Data courtesy of __[G.Petri](https://github.com/lordgrilo/Holes)__."
   ]
  },
  {
   "cell_type": "markdown",
   "metadata": {},
   "source": [
    "Import the libraries"
   ]
  },
  {
   "cell_type": "code",
   "execution_count": 1,
   "metadata": {},
   "outputs": [],
   "source": [
    "# source files are two folders above\n",
    "import sys, os, re, time\n",
    "import pandas as pd\n",
    "sys.path.append('../../src')\n",
    "\n",
    "import Driver\n",
    "import Geometry\n",
    "import Scaffold\n",
    "\n",
    "import math\n",
    "import numpy as np\n",
    "from random import random\n",
    "import networkx as nx\n",
    "import pickle as pk\n",
    "import matplotlib.pyplot as plt\n",
    "import scipy.stats as stats\n",
    "import statsmodels.stats.multitest as multitest\n",
    "\n",
    "sys.path.append('../../')\n",
    "import Holes as ho"
   ]
  },
  {
   "cell_type": "markdown",
   "metadata": {},
   "source": [
    "Data is stored as a *networkx* graph."
   ]
  },
  {
   "cell_type": "markdown",
   "metadata": {},
   "source": [
    "### Holes\n",
    "We first compute the loose scaffold."
   ]
  },
  {
   "cell_type": "markdown",
   "metadata": {},
   "source": [
    "Aggregate the homological scaffold and write it to file."
   ]
  },
  {
   "cell_type": "code",
   "execution_count": 2,
   "metadata": {},
   "outputs": [],
   "source": [
    "def HomoScaffold(G, gen, outfilename):\n",
    "    ScafH = nx.Graph()\n",
    "    # ScafH.add_nodes_from(G)\n",
    "    edges = []\n",
    "    for c in gen[1]:\n",
    "        edges.extend(c.cycles())\n",
    "\n",
    "    for e in edges:\n",
    "        u , v = int(e[0]) , int(e[1])\n",
    "        if ScafH.has_edge(u,v):\n",
    "            ScafH[u][v]['weight'] += 1\n",
    "        else:\n",
    "            ScafH.add_edge(u, v, weight=1)\n",
    "            ScafH[u][v]['persistence'] = 0\n",
    "\n",
    "    for cy in gen[1]:\n",
    "        cyc =  cy.cycles()\n",
    "        unique_integers = [[int(x) for x in sublist] for sublist in cyc]\n",
    "        for sublist in cyc:\n",
    "            u,v = int(sublist[0]) , int(sublist[1])\n",
    "            if ScafH.has_edge(u,v):\n",
    "                ScafH[u][v]['persistence'] += cy.persistence_interval()\n",
    "        print('cy interval ', cy.persistence_interval(), unique_integers)\n",
    "    \n",
    "    # out_file = f'./Scaffolds/JPScaffold_{outfilename}.pck'\n",
    "    with open(outfilename,'wb') as f:\n",
    "        pk.dump(ScafH, f)\n",
    "    return \"Stored Homological Scaffold\""
   ]
  },
  {
   "cell_type": "code",
   "execution_count": 3,
   "metadata": {},
   "outputs": [
    {
     "name": "stdout",
     "output_type": "stream",
     "text": [
      "225\n",
      "7 [29, 35, 26, 22, 12, 30, 46] ['Visual', 'Somato Motor', 'Dorsal Attention', 'Salient Ventral Attention', 'Limbic', 'Control', 'Default']\n"
     ]
    }
   ],
   "source": [
    "dataset = 'MPI_LEMON'\n",
    "# dataset = 'ABIDE'\n",
    "path_file = f'../../../PersistentHomology_fMRIdata/Data/{dataset}/FCM_DistMat/'\n",
    "files_list = os.listdir(path_file)\n",
    "print(len(files_list)) \n",
    "\n",
    "RSNs_details = pd.read_csv('../../../PersistentHomology_fMRIdata/Data/SchaeferAtlas_Regions_details.csv')\n",
    "RSNs7 = RSNs_details['RSN'].unique().tolist()\n",
    "result_dict = {key: RSNs_details.loc[RSNs_details['RSN'] == key, 'Node_number'].tolist() for key in RSNs_details['RSN'].unique()}\n",
    "RSN_node_details = { rsn : {i:result_dict[rsn][i] for i in range(len(result_dict[rsn]))} for rsn in RSNs7}\n",
    "print(len(result_dict),[ len(x) for x in result_dict.values()],RSNs7)"
   ]
  },
  {
   "cell_type": "code",
   "execution_count": 22,
   "metadata": {
    "scrolled": true
   },
   "outputs": [
    {
     "name": "stdout",
     "output_type": "stream",
     "text": [
      "Visual 29\n",
      "32506\n",
      "32509\n",
      "32515\n",
      "32524\n",
      "32527\n",
      "Done for Visual \t 0 5 \t 73 \t 0.45102620124816895\n",
      "Somato Motor 35\n",
      "32509\n",
      "32519\n",
      "Done for SomatoMotor \t 0 2 \t 61 \t 0.3471183776855469\n",
      "Dorsal Attention 26\n",
      "Done for DorsalAttention \t 3 0 \t 81 \t 0.28678393363952637\n",
      "Salient Ventral Attention 22\n",
      "Done for SalientVentralAttention \t 1 0 \t 30 \t 0.29550838470458984\n",
      "Limbic 12\n",
      "32508\n",
      "32513\n",
      "Done for Limbic \t 0 2 \t 21 \t 0.25254225730895996\n",
      "Control 30\n",
      "Done for Control \t 30 0 \t 158 \t 0.29920029640197754\n",
      "Default 46\n",
      "Done for Default \t 51 0 \t 285 \t 0.3789811134338379\n",
      "Done for  MPI_LEMON 2.3111605644226074\n"
     ]
    }
   ],
   "source": [
    "t0 = time.time()\n",
    "path = '../../../PersistentHomology_fMRIdata/Outputs_RSN/HomoScaffold/'\n",
    "no_edges_diff = {}\n",
    "for RSN in RSNs7:\n",
    "    t1 = time.time()\n",
    "    indices = result_dict[RSN]\n",
    "    print(RSN, len(indices))#, indices)\n",
    "    rsn = RSN.replace(' ','')\n",
    "    no_edges_diff[rsn] = []\n",
    "    for i in range(200,len(files_list)):\n",
    "        t2 = time.time()\n",
    "        SubID = files_list[i].split('.')[0].split('_')[-1]\n",
    "        DisMat = pd.read_csv(path_file + files_list[i], header = None, sep = ',').values\n",
    "        DisMat_rsn = DisMat[np.ix_(indices, indices)]\n",
    "        G = nx.from_numpy_array(DisMat_rsn)\n",
    "        # print(DisMat_rsn.shape, G)\n",
    "        num_edges_complete = nx.number_of_edges(G)\n",
    "        DisMat_rsn[DisMat_rsn > np.sqrt(2)] = 0\n",
    "        G = nx.from_numpy_array(DisMat_rsn)\n",
    "        num_edges = nx.number_of_edges(G)\n",
    "        # print(DisMat_rsn.shape,'num_components=', num_components,'\\t', G)\n",
    "        no_edges_diff[rsn].append(num_edges_complete - num_edges)\n",
    "        if num_edges_complete == num_edges:\n",
    "            print(SubID)\n",
    "        # print(f'Done for {SubID}', time.time() - t2, '-'*60 )\n",
    "        # break\n",
    "    print(f'Done for {rsn}', '\\t',min(no_edges_diff[rsn]), no_edges_diff[rsn].count(0),'\\t',max(no_edges_diff[rsn]),'\\t',time.time() - t1 )\n",
    "    # break\n",
    "print('Done for ', dataset, time.time() - t0) "
   ]
  },
  {
   "cell_type": "code",
   "execution_count": 4,
   "metadata": {},
   "outputs": [
    {
     "name": "stdout",
     "output_type": "stream",
     "text": [
      "Limbic 12\n",
      "(12, 12) num_components= 1 \t Graph with 12 nodes and 66 edges\n",
      "Preliminary scan of edge weights to define filtration steps...\n",
      "Constructing filtration...\n",
      "Max filtration value: 65\n",
      "Clique dictionary created.\n",
      "Filtration done  0.02786111831665039\n",
      "0\n",
      "persistent_homology_calculation done  2.2331202030181885\n",
      "cy interval  1.0 [[8, 10], [1, 3], [3, 10], [1, 8]]\n",
      "cy interval  14.0 [[4, 5], [0, 7], [0, 2], [5, 7], [2, 4]]\n",
      "cy interval  16.0 [[0, 7], [2, 3], [1, 6], [6, 7], [1, 3], [0, 2]]\n",
      "Done for 32301 2.2331202030181885 ------------------------------------------------------------\n",
      "(12, 12) num_components= 1 \t Graph with 12 nodes and 66 edges\n",
      "Preliminary scan of edge weights to define filtration steps...\n",
      "Constructing filtration...\n",
      "Max filtration value: 65\n",
      "Clique dictionary created.\n",
      "Filtration done  0.026665210723876953\n"
     ]
    },
    {
     "name": "stderr",
     "output_type": "stream",
     "text": [
      "Child returned 0\n"
     ]
    },
    {
     "name": "stdout",
     "output_type": "stream",
     "text": [
      "0\n",
      "persistent_homology_calculation done  2.2916886806488037\n",
      "cy interval  7.0 [[2, 3], [2, 10], [0, 3], [0, 9], [9, 10]]\n",
      "cy interval  15.0 [[8, 10], [1, 6], [6, 8], [0, 3], [3, 10], [0, 1]]\n",
      "Done for 32302 2.2916886806488037 ------------------------------------------------------------\n",
      "(12, 12) num_components= 1 \t Graph with 12 nodes and 66 edges\n",
      "Preliminary scan of edge weights to define filtration steps...\n",
      "Constructing filtration...\n",
      "Max filtration value: 65\n",
      "Clique dictionary created.\n",
      "Filtration done  0.0319514274597168\n"
     ]
    },
    {
     "name": "stderr",
     "output_type": "stream",
     "text": [
      "Child returned 0\n"
     ]
    },
    {
     "name": "stdout",
     "output_type": "stream",
     "text": [
      "0\n",
      "persistent_homology_calculation done  2.3870880603790283\n",
      "cy interval  19.0 [[2, 3], [8, 11], [6, 8], [4, 7], [6, 7], [3, 10], [2, 4], [10, 11]]\n",
      "cy interval  8.0 [[1, 6], [5, 6], [0, 5], [0, 1]]\n",
      "Done for 32303 2.3870880603790283 ------------------------------------------------------------\n",
      "(12, 12) num_components= 1 \t Graph with 12 nodes and 66 edges\n",
      "Preliminary scan of edge weights to define filtration steps...\n",
      "Constructing filtration...\n",
      "Max filtration value: 65\n",
      "Clique dictionary created.\n",
      "Filtration done  0.03171372413635254\n"
     ]
    },
    {
     "name": "stderr",
     "output_type": "stream",
     "text": [
      "Child returned 0\n"
     ]
    },
    {
     "name": "stdout",
     "output_type": "stream",
     "text": [
      "0\n",
      "persistent_homology_calculation done  2.3326566219329834\n",
      "cy interval  1.0 [[2, 4], [2, 10], [4, 9], [9, 10]]\n",
      "cy interval  2.0 [[8, 10], [0, 8], [0, 2], [2, 10]]\n",
      "Done for 32304 2.3326566219329834 ------------------------------------------------------------\n",
      "(12, 12) num_components= 1 \t Graph with 12 nodes and 66 edges\n",
      "Preliminary scan of edge weights to define filtration steps...\n",
      "Constructing filtration...\n",
      "Max filtration value: 65\n",
      "Clique dictionary created.\n",
      "Filtration done  0.03165769577026367\n"
     ]
    },
    {
     "name": "stderr",
     "output_type": "stream",
     "text": [
      "Child returned 0\n"
     ]
    },
    {
     "name": "stdout",
     "output_type": "stream",
     "text": [
      "0\n",
      "persistent_homology_calculation done  2.496432304382324\n",
      "cy interval  5.0 [[0, 7], [1, 6], [6, 7], [0, 1]]\n",
      "cy interval  3.0 [[4, 5], [0, 4], [1, 5], [0, 1]]\n",
      "Done for 32305 2.509201765060425 ------------------------------------------------------------\n",
      "(12, 12) num_components= 1 \t Graph with 12 nodes and 66 edges\n",
      "Preliminary scan of edge weights to define filtration steps...\n",
      "Constructing filtration...\n",
      "Max filtration value: 65\n",
      "Clique dictionary created.\n",
      "Filtration done  0.04693341255187988\n"
     ]
    },
    {
     "name": "stderr",
     "output_type": "stream",
     "text": [
      "Child returned 0\n"
     ]
    },
    {
     "name": "stdout",
     "output_type": "stream",
     "text": [
      "0\n",
      "persistent_homology_calculation done  2.9401261806488037\n",
      "cy interval  1.0 [[4, 9], [2, 11], [9, 11], [2, 4]]\n",
      "cy interval  1.0 [[0, 7], [6, 7], [3, 6], [0, 3]]\n",
      "cy interval  16.0 [[0, 7], [2, 3], [1, 8], [0, 3], [1, 7], [2, 8]]\n",
      "Done for 32306 2.956071615219116 ------------------------------------------------------------\n",
      "(12, 12) num_components= 1 \t Graph with 12 nodes and 66 edges\n",
      "Preliminary scan of edge weights to define filtration steps...\n",
      "Constructing filtration...\n",
      "Max filtration value: 65\n",
      "Clique dictionary created.\n",
      "Filtration done  0.03450322151184082\n"
     ]
    },
    {
     "name": "stderr",
     "output_type": "stream",
     "text": [
      "Child returned 0\n"
     ]
    },
    {
     "name": "stdout",
     "output_type": "stream",
     "text": [
      "0\n",
      "persistent_homology_calculation done  2.9037632942199707\n",
      "cy interval  3.0 [[0, 7], [1, 6], [6, 7], [0, 1]]\n",
      "cy interval  8.0 [[0, 7], [0, 4], [4, 9], [8, 9], [7, 8]]\n",
      "Done for 32307 2.919924736022949 ------------------------------------------------------------\n",
      "(12, 12) num_components= 1 \t Graph with 12 nodes and 66 edges\n",
      "Preliminary scan of edge weights to define filtration steps...\n",
      "Constructing filtration...\n",
      "Max filtration value: 65\n",
      "Clique dictionary created.\n",
      "Filtration done  0.031723976135253906\n"
     ]
    },
    {
     "name": "stderr",
     "output_type": "stream",
     "text": [
      "Child returned 0\n"
     ]
    },
    {
     "name": "stdout",
     "output_type": "stream",
     "text": [
      "0\n",
      "persistent_homology_calculation done  3.100405693054199\n",
      "cy interval  3.0 [[0, 7], [2, 10], [7, 10], [4, 9], [0, 9], [2, 4]]\n",
      "cy interval  3.0 [[3, 8], [1, 8], [0, 3], [0, 1]]\n",
      "Done for 32308 3.1202032566070557 ------------------------------------------------------------\n",
      "(12, 12) num_components= 1 \t Graph with 12 nodes and 66 edges\n",
      "Preliminary scan of edge weights to define filtration steps...\n",
      "Constructing filtration...\n",
      "Max filtration value: 65\n",
      "Clique dictionary created.\n",
      "Filtration done  0.06415629386901855\n"
     ]
    },
    {
     "name": "stderr",
     "output_type": "stream",
     "text": [
      "Child returned 0\n"
     ]
    },
    {
     "name": "stdout",
     "output_type": "stream",
     "text": [
      "0\n",
      "persistent_homology_calculation done  3.5636277198791504\n",
      "cy interval  1.0 [[2, 4], [2, 3], [4, 9], [3, 9]]\n",
      "cy interval  1.0 [[1, 4], [4, 9], [8, 9], [1, 8]]\n",
      "cy interval  2.0 [[1, 4], [0, 3], [3, 4], [0, 1]]\n",
      "Done for 32309 3.579272747039795 ------------------------------------------------------------\n",
      "(12, 12) num_components= 1 \t Graph with 12 nodes and 66 edges\n",
      "Preliminary scan of edge weights to define filtration steps...\n",
      "Constructing filtration...\n",
      "Max filtration value: 65\n",
      "Clique dictionary created.\n",
      "Filtration done  0.03150320053100586\n"
     ]
    },
    {
     "name": "stderr",
     "output_type": "stream",
     "text": [
      "Child returned 0\n"
     ]
    },
    {
     "name": "stdout",
     "output_type": "stream",
     "text": [
      "0\n",
      "persistent_homology_calculation done  2.832458972930908\n",
      "cy interval  2.0 [[8, 10], [2, 9], [2, 10], [8, 9]]\n",
      "cy interval  3.0 [[1, 6], [3, 8], [6, 8], [1, 3]]\n",
      "Done for 32310 2.835333824157715 ------------------------------------------------------------\n",
      "Done for Limbic 27.16456151008606\n",
      "Done for  MPI_LEMON 27.16456151008606\n"
     ]
    },
    {
     "name": "stderr",
     "output_type": "stream",
     "text": [
      "Child returned 0\n"
     ]
    }
   ],
   "source": [
    "t0 = time.time()\n",
    "path = '../../../PersistentHomology_fMRIdata/Outputs_RSN/HomoScaffold_PosWeight/'\n",
    "for RSN in RSNs7[4:]:\n",
    "    t1 = time.time()\n",
    "    indices = result_dict[RSN]\n",
    "    print(RSN, len(indices))#, indices)\n",
    "    rsn = RSN.replace(' ','')\n",
    "    for i in range(10):#,len(files_list)):\n",
    "        t2 = time.time()\n",
    "        SubID = files_list[i].split('.')[0].split('_')[-1]\n",
    "        DisMat = pd.read_csv(path_file + files_list[i], header = None, sep = ',').values\n",
    "        DisMat_rsn = DisMat[np.ix_(indices, indices)]\n",
    "        # DisMat_rsn[DisMat_rsn > np.sqrt(2)] = 0\n",
    "        G = nx.from_numpy_array(DisMat_rsn)\n",
    "        num_components = nx.number_connected_components(G)\n",
    "        print(DisMat_rsn.shape,'num_components=', num_components,'\\t', G)\n",
    "        fil = ho.filtrations.upward_limited_weight_clique_rank_filtration(G,3)\n",
    "        #fil = ho.filtrations.upward_weight_clique_rank_filtration(G)\n",
    "        outpath = path + f'{dataset}/{rsn}/'\n",
    "        os.makedirs(outpath + 'Filtration/', exist_ok= True)\n",
    "        clique_dictionary_file = outpath + f'Filtration/Sub_{SubID}_filtration.pck'\n",
    "        with open(clique_dictionary_file,'wb') as f:\n",
    "            pk.dump(fil,f, protocol=2)\n",
    "        print('Filtration done ', time.time() - t2)\n",
    "        hom_dim = 1\n",
    "        dataset_tag = f'Sub_{SubID}'\n",
    "        output_dir = outpath\n",
    "        \n",
    "        # Compute the generators\n",
    "        ho.persistent_homology_calculation(clique_dictionary_file, hom_dim, dataset_tag, output_dir,m1=512, m2=2048,save_generators=True)\n",
    "        print('persistent_homology_calculation done ', time.time() - t2)\n",
    "        # Dump the results in this file\n",
    "        gen_file = outpath + f'gen/generators_Sub_{SubID}_.pck'\n",
    "        with open(gen_file, 'rb') as f:\n",
    "            gen = pk.load(f)\n",
    "        os.makedirs(outpath + 'Scaffolds/', exist_ok= True)\n",
    "        OutHomScaPath = outpath + f'Scaffolds/JPScaffold_Sub_{SubID}.pck'\n",
    "        homscaf = HomoScaffold(G, gen, OutHomScaPath)\n",
    "        print(f'Done for {SubID}', time.time() - t2, '-'*60 )\n",
    "        # break\n",
    "    print(f'Done for {rsn}', time.time() - t1 )\n",
    "    break\n",
    "print('Done for ', dataset, time.time() - t0) "
   ]
  },
  {
   "cell_type": "markdown",
   "metadata": {},
   "source": [
    "Draw the loose scaffold."
   ]
  },
  {
   "cell_type": "code",
   "execution_count": 8,
   "metadata": {},
   "outputs": [
    {
     "name": "stdout",
     "output_type": "stream",
     "text": [
      "10 12 0\n",
      "[(8, 10), (8, 1), (10, 3), (1, 3), (1, 6), (3, 2), (4, 5), (4, 2), (5, 7), (0, 7), (0, 2), (7, 6)]\n",
      "[(8, 10), (8, 1), (10, 3), (1, 3), (1, 6), (3, 2), (4, 5), (4, 2), (5, 7), (0, 7), (0, 2), (7, 6)]\n",
      "8 10 0\n",
      "[(2, 3), (2, 10), (3, 0), (3, 10), (10, 9), (10, 8), (0, 9), (0, 1), (8, 6), (1, 6)]\n",
      "[(2, 3), (2, 10), (3, 0), (3, 10), (10, 9), (10, 8), (0, 9), (0, 1), (8, 6), (1, 6)]\n",
      "11 12 0\n",
      "[(2, 3), (2, 4), (3, 10), (8, 11), (8, 6), (11, 10), (6, 7), (6, 1), (6, 5), (4, 7), (1, 0), (5, 0)]\n",
      "[(2, 3), (2, 4), (3, 10), (8, 11), (8, 6), (11, 10), (6, 7), (6, 1), (6, 5), (4, 7), (1, 0), (5, 0)]\n",
      "6 7 0\n",
      "[(2, 4), (2, 10), (2, 0), (4, 9), (10, 9), (10, 8), (8, 0)]\n",
      "[(2, 4), (2, 10), (2, 0), (4, 9), (10, 9), (10, 8), (8, 0)]\n",
      "6 7 0\n",
      "[(0, 7), (0, 1), (0, 4), (7, 6), (1, 6), (1, 5), (4, 5)]\n",
      "[(0, 7), (0, 1), (0, 4), (7, 6), (1, 6), (1, 5), (4, 5)]\n",
      "10 12 0\n",
      "[(4, 9), (4, 2), (9, 11), (2, 11), (2, 3), (2, 8), (0, 7), (0, 3), (7, 6), (7, 1), (6, 3), (1, 8)]\n",
      "[(4, 9), (4, 2), (9, 11), (2, 11), (2, 3), (2, 8), (0, 7), (0, 3), (7, 6), (7, 1), (6, 3), (1, 8)]\n",
      "7 8 0\n",
      "[(0, 7), (0, 1), (0, 4), (7, 6), (7, 8), (1, 6), (4, 9), (9, 8)]\n",
      "[(0, 7), (0, 1), (0, 4), (7, 6), (7, 8), (1, 6), (4, 9), (9, 8)]\n",
      "9 10 0\n",
      "[(0, 7), (0, 9), (0, 3), (0, 1), (7, 10), (2, 10), (2, 4), (4, 9), (3, 8), (8, 1)]\n",
      "[(0, 7), (0, 9), (0, 3), (0, 1), (7, 10), (2, 10), (2, 4), (4, 9), (3, 8), (8, 1)]\n",
      "7 10 0\n",
      "[(2, 4), (2, 3), (4, 9), (4, 1), (4, 3), (3, 9), (3, 0), (9, 8), (1, 8), (1, 0)]\n",
      "[(2, 4), (2, 3), (4, 9), (4, 1), (4, 3), (3, 9), (3, 0), (9, 8), (1, 8), (1, 0)]\n",
      "7 8 0\n",
      "[(8, 10), (8, 9), (8, 3), (8, 6), (10, 2), (2, 9), (1, 6), (1, 3)]\n",
      "[(8, 10), (8, 9), (8, 3), (8, 6), (10, 2), (2, 9), (1, 6), (1, 3)]\n"
     ]
    }
   ],
   "source": [
    "outpath = '../../../PersistentHomology_fMRIdata/Outputs_RSN/HomoScaffold_PosWeight/MPI_LEMON/Limbic/'\n",
    "outpath2 = '../../../PersistentHomology_fMRIdata/Outputs_RSN/HomoScaffold/MPI_LEMON/Limbic/'\n",
    "\n",
    "for i in range(10):\n",
    "    SubID = files_list[i].split('.')[0].split('_')[-1]\n",
    "    OutHomScaPath = outpath + f'Scaffolds/JPScaffold_Sub_{SubID}.pck'\n",
    "    with open(OutHomScaPath, 'rb') as f:\n",
    "        ScafH = pk.load(f)\n",
    "\n",
    "    OutHomScaPath2 = outpath2 + f'Scaffolds/JPScaffold_Sub_{SubID}.pck'\n",
    "    with open(OutHomScaPath2, 'rb') as f2:\n",
    "        ScafH2 = pk.load(f2)\n",
    "    print( ScafH.number_of_nodes(),ScafH.number_of_edges(), len(list(nx.isolates(ScafH))))\n",
    "    print(list(ScafH.edges()))\n",
    "    print(list(ScafH2.edges()))\n",
    "    # print(ScafH.edges(data=True))"
   ]
  },
  {
   "cell_type": "code",
   "execution_count": 5,
   "metadata": {},
   "outputs": [
    {
     "name": "stdout",
     "output_type": "stream",
     "text": [
      "../../../PersistentHomology_fMRIdata/Outputs_RSN/HomoScaffold_PosWeight/MPI_LEMON/Limbic/Scaffolds/JPScaffold_Sub_32310.pck <class 'networkx.classes.graph.Graph'> 7 8 0\n",
      "[(8, 10), (8, 9), (8, 3), (8, 6), (10, 2), (2, 9), (1, 6), (1, 3)]\n",
      "[(8, 10, {'weight': 1, 'persistence': 2.0}), (8, 9, {'weight': 1, 'persistence': 2.0}), (8, 3, {'weight': 1, 'persistence': 3.0}), (8, 6, {'weight': 1, 'persistence': 3.0}), (10, 2, {'weight': 1, 'persistence': 2.0}), (2, 9, {'weight': 1, 'persistence': 2.0}), (1, 6, {'weight': 1, 'persistence': 3.0}), (1, 3, {'weight': 1, 'persistence': 3.0})]\n"
     ]
    },
    {
     "data": {
      "image/png": "[encoded data removed]",
      "text/plain": [
       "<Figure size 640x480 with 1 Axes>"
      ]
     },
     "metadata": {},
     "output_type": "display_data"
    }
   ],
   "source": [
    "# outfilename = f'{rsn}_{SubID}'\n",
    "with open(OutHomScaPath, 'rb') as f:\n",
    "    ScafH = pk.load(f)\n",
    "print(OutHomScaPath, type(ScafH), ScafH.number_of_nodes(),ScafH.number_of_edges(), len(list(nx.isolates(ScafH))))\n",
    "print(list(ScafH.edges()))\n",
    "print(ScafH.edges(data=True))\n",
    "nx.draw(ScafH, node_size=300, with_labels = True)"
   ]
  },
  {
   "cell_type": "code",
   "execution_count": 13,
   "metadata": {},
   "outputs": [
    {
     "name": "stdout",
     "output_type": "stream",
     "text": [
      "Limbic 12\n",
      "Graph with 10 nodes and 12 edges 10 12 0\n",
      "Graph with 8 nodes and 10 edges 8 10 0\n",
      "Graph with 11 nodes and 12 edges 11 12 0\n",
      "Graph with 6 nodes and 7 edges 6 7 0\n",
      "Graph with 6 nodes and 7 edges 6 7 0\n",
      "Graph with 10 nodes and 12 edges 10 12 0\n",
      "Graph with 7 nodes and 8 edges 7 8 0\n",
      "Graph with 9 nodes and 10 edges 9 10 0\n",
      "Graph with 7 nodes and 10 edges 7 10 0\n",
      "Graph with 7 nodes and 8 edges 7 8 0\n",
      "Graph with 9 nodes and 11 edges 9 11 0\n",
      "Graph with 6 nodes and 7 edges 6 7 0\n",
      "Graph with 4 nodes and 4 edges 4 4 0\n",
      "Graph with 0 nodes and 0 edges 0 0 0\n",
      "Graph with 6 nodes and 7 edges 6 7 0\n",
      "Graph with 10 nodes and 12 edges 10 12 0\n",
      "Graph with 6 nodes and 6 edges 6 6 0\n",
      "Graph with 0 nodes and 0 edges 0 0 0\n",
      "Graph with 9 nodes and 12 edges 9 12 0\n",
      "Graph with 10 nodes and 13 edges 10 13 0\n",
      "Graph with 11 nodes and 14 edges 11 14 0\n",
      "Graph with 7 nodes and 8 edges 7 8 0\n",
      "Graph with 7 nodes and 8 edges 7 8 0\n",
      "Graph with 4 nodes and 4 edges 4 4 0\n",
      "Graph with 7 nodes and 8 edges 7 8 0\n",
      "Graph with 0 nodes and 0 edges 0 0 0\n",
      "Graph with 7 nodes and 8 edges 7 8 0\n",
      "Graph with 4 nodes and 4 edges 4 4 0\n",
      "Graph with 7 nodes and 7 edges 7 7 0\n",
      "Graph with 7 nodes and 8 edges 7 8 0\n",
      "Graph with 0 nodes and 0 edges 0 0 0\n",
      "Graph with 8 nodes and 9 edges 8 9 0\n",
      "Graph with 4 nodes and 4 edges 4 4 0\n",
      "Graph with 11 nodes and 15 edges 11 15 0\n",
      "Graph with 8 nodes and 11 edges 8 11 0\n",
      "Graph with 8 nodes and 8 edges 8 8 0\n",
      "Graph with 4 nodes and 4 edges 4 4 0\n",
      "Graph with 4 nodes and 4 edges 4 4 0\n",
      "Graph with 4 nodes and 4 edges 4 4 0\n",
      "Graph with 7 nodes and 8 edges 7 8 0\n",
      "Graph with 6 nodes and 6 edges 6 6 0\n",
      "Graph with 7 nodes and 9 edges 7 9 0\n",
      "Graph with 6 nodes and 7 edges 6 7 0\n",
      "Graph with 11 nodes and 15 edges 11 15 0\n",
      "Graph with 0 nodes and 0 edges 0 0 0\n",
      "Graph with 12 nodes and 16 edges 12 16 0\n",
      "Graph with 0 nodes and 0 edges 0 0 0\n",
      "Graph with 8 nodes and 10 edges 8 10 0\n",
      "Graph with 0 nodes and 0 edges 0 0 0\n",
      "Graph with 6 nodes and 6 edges 6 6 0\n",
      "Graph with 8 nodes and 12 edges 8 12 0\n",
      "Graph with 4 nodes and 4 edges 4 4 0\n",
      "Graph with 7 nodes and 7 edges 7 7 0\n",
      "Graph with 4 nodes and 4 edges 4 4 0\n",
      "Graph with 7 nodes and 8 edges 7 8 0\n",
      "Graph with 10 nodes and 13 edges 10 13 0\n",
      "Graph with 0 nodes and 0 edges 0 0 0\n",
      "Graph with 9 nodes and 11 edges 9 11 0\n",
      "Graph with 4 nodes and 4 edges 4 4 0\n",
      "Graph with 5 nodes and 5 edges 5 5 0\n",
      "Graph with 6 nodes and 7 edges 6 7 0\n",
      "Graph with 7 nodes and 9 edges 7 9 0\n",
      "Graph with 6 nodes and 6 edges 6 6 0\n",
      "Graph with 10 nodes and 12 edges 10 12 0\n",
      "Graph with 8 nodes and 9 edges 8 9 0\n",
      "Graph with 7 nodes and 8 edges 7 8 0\n",
      "Graph with 7 nodes and 9 edges 7 9 0\n",
      "Graph with 5 nodes and 5 edges 5 5 0\n",
      "Graph with 4 nodes and 4 edges 4 4 0\n",
      "Graph with 7 nodes and 8 edges 7 8 0\n",
      "Graph with 8 nodes and 10 edges 8 10 0\n",
      "Graph with 11 nodes and 15 edges 11 15 0\n",
      "Graph with 0 nodes and 0 edges 0 0 0\n",
      "Graph with 8 nodes and 8 edges 8 8 0\n",
      "Graph with 5 nodes and 5 edges 5 5 0\n",
      "Graph with 10 nodes and 13 edges 10 13 0\n",
      "Graph with 7 nodes and 8 edges 7 8 0\n",
      "Graph with 0 nodes and 0 edges 0 0 0\n",
      "Graph with 6 nodes and 6 edges 6 6 0\n",
      "Graph with 9 nodes and 12 edges 9 12 0\n",
      "Graph with 11 nodes and 16 edges 11 16 0\n",
      "Graph with 7 nodes and 8 edges 7 8 0\n",
      "Graph with 8 nodes and 10 edges 8 10 0\n",
      "Graph with 9 nodes and 10 edges 9 10 0\n",
      "Graph with 6 nodes and 7 edges 6 7 0\n",
      "Graph with 8 nodes and 9 edges 8 9 0\n",
      "Graph with 7 nodes and 7 edges 7 7 0\n",
      "Graph with 4 nodes and 4 edges 4 4 0\n",
      "Graph with 6 nodes and 8 edges 6 8 0\n",
      "Graph with 11 nodes and 12 edges 11 12 0\n",
      "Graph with 4 nodes and 4 edges 4 4 0\n",
      "Graph with 5 nodes and 5 edges 5 5 0\n",
      "Graph with 8 nodes and 9 edges 8 9 0\n",
      "Graph with 5 nodes and 5 edges 5 5 0\n",
      "Graph with 8 nodes and 9 edges 8 9 0\n",
      "Graph with 8 nodes and 9 edges 8 9 0\n",
      "Graph with 11 nodes and 13 edges 11 13 0\n",
      "Graph with 0 nodes and 0 edges 0 0 0\n",
      "Graph with 6 nodes and 7 edges 6 7 0\n",
      "Graph with 4 nodes and 4 edges 4 4 0\n",
      "Graph with 6 nodes and 7 edges 6 7 0\n",
      "Graph with 9 nodes and 11 edges 9 11 0\n",
      "Graph with 6 nodes and 7 edges 6 7 0\n",
      "Graph with 5 nodes and 5 edges 5 5 0\n",
      "Graph with 8 nodes and 10 edges 8 10 0\n",
      "Graph with 6 nodes and 7 edges 6 7 0\n",
      "Graph with 7 nodes and 8 edges 7 8 0\n",
      "Graph with 6 nodes and 6 edges 6 6 0\n",
      "Graph with 5 nodes and 5 edges 5 5 0\n",
      "Graph with 5 nodes and 5 edges 5 5 0\n",
      "Graph with 7 nodes and 8 edges 7 8 0\n",
      "Graph with 0 nodes and 0 edges 0 0 0\n",
      "Graph with 7 nodes and 8 edges 7 8 0\n",
      "Graph with 4 nodes and 4 edges 4 4 0\n",
      "Graph with 4 nodes and 4 edges 4 4 0\n",
      "Graph with 9 nodes and 12 edges 9 12 0\n",
      "Graph with 7 nodes and 8 edges 7 8 0\n",
      "Graph with 5 nodes and 5 edges 5 5 0\n",
      "Graph with 10 nodes and 14 edges 10 14 0\n",
      "Graph with 8 nodes and 12 edges 8 12 0\n",
      "Graph with 9 nodes and 12 edges 9 12 0\n",
      "Graph with 11 nodes and 14 edges 11 14 0\n",
      "Graph with 9 nodes and 14 edges 9 14 0\n",
      "Graph with 7 nodes and 8 edges 7 8 0\n",
      "Graph with 5 nodes and 5 edges 5 5 0\n",
      "Graph with 7 nodes and 9 edges 7 9 0\n",
      "Graph with 10 nodes and 10 edges 10 10 0\n",
      "Graph with 10 nodes and 13 edges 10 13 0\n",
      "Graph with 0 nodes and 0 edges 0 0 0\n",
      "Graph with 7 nodes and 8 edges 7 8 0\n",
      "Graph with 7 nodes and 9 edges 7 9 0\n",
      "Graph with 4 nodes and 4 edges 4 4 0\n",
      "Graph with 4 nodes and 4 edges 4 4 0\n",
      "Graph with 5 nodes and 5 edges 5 5 0\n",
      "Graph with 0 nodes and 0 edges 0 0 0\n",
      "Graph with 0 nodes and 0 edges 0 0 0\n",
      "Graph with 0 nodes and 0 edges 0 0 0\n",
      "Graph with 6 nodes and 7 edges 6 7 0\n",
      "Graph with 12 nodes and 19 edges 12 19 0\n",
      "Graph with 4 nodes and 4 edges 4 4 0\n",
      "Graph with 7 nodes and 8 edges 7 8 0\n",
      "Graph with 10 nodes and 12 edges 10 12 0\n",
      "Graph with 6 nodes and 7 edges 6 7 0\n",
      "Graph with 8 nodes and 8 edges 8 8 0\n",
      "Graph with 6 nodes and 6 edges 6 6 0\n",
      "Graph with 4 nodes and 4 edges 4 4 0\n",
      "Graph with 4 nodes and 4 edges 4 4 0\n",
      "Graph with 4 nodes and 4 edges 4 4 0\n",
      "Graph with 7 nodes and 7 edges 7 7 0\n",
      "Graph with 4 nodes and 4 edges 4 4 0\n",
      "Graph with 7 nodes and 10 edges 7 10 0\n",
      "Graph with 10 nodes and 12 edges 10 12 0\n",
      "Graph with 8 nodes and 9 edges 8 9 0\n",
      "Graph with 9 nodes and 13 edges 9 13 0\n",
      "Graph with 6 nodes and 6 edges 6 6 0\n",
      "Graph with 4 nodes and 4 edges 4 4 0\n",
      "Graph with 4 nodes and 4 edges 4 4 0\n",
      "Graph with 0 nodes and 0 edges 0 0 0\n",
      "Graph with 4 nodes and 4 edges 4 4 0\n",
      "Graph with 8 nodes and 9 edges 8 9 0\n",
      "Graph with 7 nodes and 9 edges 7 9 0\n",
      "Graph with 7 nodes and 8 edges 7 8 0\n",
      "Graph with 8 nodes and 11 edges 8 11 0\n",
      "Graph with 6 nodes and 8 edges 6 8 0\n",
      "Graph with 4 nodes and 4 edges 4 4 0\n",
      "Graph with 11 nodes and 13 edges 11 13 0\n",
      "Graph with 7 nodes and 8 edges 7 8 0\n",
      "Graph with 4 nodes and 4 edges 4 4 0\n",
      "Graph with 7 nodes and 8 edges 7 8 0\n",
      "Graph with 5 nodes and 5 edges 5 5 0\n",
      "Graph with 4 nodes and 4 edges 4 4 0\n",
      "Graph with 5 nodes and 5 edges 5 5 0\n",
      "Graph with 0 nodes and 0 edges 0 0 0\n",
      "Graph with 10 nodes and 16 edges 10 16 0\n",
      "Graph with 4 nodes and 4 edges 4 4 0\n",
      "Graph with 9 nodes and 12 edges 9 12 0\n",
      "Graph with 11 nodes and 14 edges 11 14 0\n",
      "Graph with 9 nodes and 12 edges 9 12 0\n",
      "Graph with 4 nodes and 4 edges 4 4 0\n",
      "Graph with 4 nodes and 4 edges 4 4 0\n",
      "Graph with 0 nodes and 0 edges 0 0 0\n",
      "Graph with 0 nodes and 0 edges 0 0 0\n",
      "Graph with 11 nodes and 15 edges 11 15 0\n",
      "Graph with 10 nodes and 13 edges 10 13 0\n",
      "Graph with 7 nodes and 8 edges 7 8 0\n",
      "Graph with 4 nodes and 4 edges 4 4 0\n",
      "Graph with 8 nodes and 10 edges 8 10 0\n",
      "Graph with 9 nodes and 12 edges 9 12 0\n",
      "Graph with 4 nodes and 4 edges 4 4 0\n",
      "Graph with 6 nodes and 7 edges 6 7 0\n",
      "Graph with 10 nodes and 10 edges 10 10 0\n",
      "Graph with 4 nodes and 4 edges 4 4 0\n",
      "Graph with 0 nodes and 0 edges 0 0 0\n",
      "Graph with 4 nodes and 4 edges 4 4 0\n",
      "Graph with 10 nodes and 16 edges 10 16 0\n",
      "Graph with 5 nodes and 5 edges 5 5 0\n",
      "Graph with 9 nodes and 12 edges 9 12 0\n",
      "Graph with 12 nodes and 17 edges 12 17 0\n",
      "Graph with 7 nodes and 9 edges 7 9 0\n",
      "Graph with 4 nodes and 4 edges 4 4 0\n",
      "Graph with 5 nodes and 5 edges 5 5 0\n",
      "Graph with 8 nodes and 9 edges 8 9 0\n",
      "Graph with 5 nodes and 5 edges 5 5 0\n",
      "Graph with 6 nodes and 7 edges 6 7 0\n",
      "Graph with 4 nodes and 4 edges 4 4 0\n",
      "Graph with 4 nodes and 4 edges 4 4 0\n",
      "Graph with 0 nodes and 0 edges 0 0 0\n",
      "Graph with 6 nodes and 7 edges 6 7 0\n",
      "Graph with 0 nodes and 0 edges 0 0 0\n",
      "Graph with 4 nodes and 4 edges 4 4 0\n",
      "Graph with 7 nodes and 8 edges 7 8 0\n",
      "Graph with 7 nodes and 9 edges 7 9 0\n",
      "Graph with 7 nodes and 8 edges 7 8 0\n",
      "Graph with 7 nodes and 9 edges 7 9 0\n",
      "Graph with 6 nodes and 8 edges 6 8 0\n",
      "Graph with 4 nodes and 4 edges 4 4 0\n",
      "Graph with 11 nodes and 15 edges 11 15 0\n",
      "Graph with 11 nodes and 12 edges 11 12 0\n",
      "Graph with 5 nodes and 5 edges 5 5 0\n",
      "Graph with 6 nodes and 7 edges 6 7 0\n",
      "Graph with 7 nodes and 8 edges 7 8 0\n",
      "Graph with 8 nodes and 8 edges 8 8 0\n",
      "Graph with 8 nodes and 9 edges 8 9 0\n",
      "Graph with 8 nodes and 9 edges 8 9 0\n",
      "Graph with 4 nodes and 4 edges 4 4 0\n"
     ]
    }
   ],
   "source": [
    "t0 = time.time()\n",
    "path = '../../../PersistentHomology_fMRIdata/Outputs_RSN/HomoScaffold_PosWeight/'\n",
    "for RSN in RSNs7[4:]:\n",
    "    t1 = time.time()\n",
    "    indices = result_dict[RSN]\n",
    "    NNodes = len(indices)\n",
    "    print(RSN, NNodes)\n",
    "    rsn = RSN.replace(' ','')\n",
    "    Freqoutdict = {'Nodes': [n for n in range(NNodes)]}\n",
    "    Persistoutdict = {'Nodes': [n for n in range(NNodes)]}\n",
    "    for i in range(len(files_list)):\n",
    "        t2 = time.time()\n",
    "        SubID = files_list[i].split('.')[0].split('_')[-1]\n",
    "        outpath = path + f'{dataset}/{rsn}/'\n",
    "        OutHomScaPath = outpath + f'Scaffolds/JPScaffold_Sub_{SubID}.pck'\n",
    "        with open(OutHomScaPath, 'rb') as f:\n",
    "            ScafH = pk.load(f)\n",
    "        print(ScafH, ScafH.number_of_nodes(),ScafH.number_of_edges(), len(list(nx.isolates(ScafH))))\n",
    "        # print(list(ScafH.edges()))\n",
    "        # print(ScafH.edges(data=True))\n",
    "        Nodefreq, Nodepersistence = dict(ScafH.degree(weight='weight')), dict(ScafH.degree(weight='persistence'))\n",
    "        NodeFreq = {n: 0 for n in range(NNodes)}\n",
    "        NodePersistence = {n: 0 for n in range(NNodes)}\n",
    "        for n in range(NNodes):\n",
    "            if n in Nodefreq.keys():\n",
    "                NodeFreq[n] = int(Nodefreq[n]/2)\n",
    "                NodePersistence[n] = Nodepersistence[n]/2\n",
    "        # print(Nodefreq, NodeFreq)\n",
    "        Freqoutdict[SubID] = NodeFreq.values()\n",
    "        Persistoutdict[SubID] = NodePersistence.values()\n",
    "        # print(f'({i}) Done for {SubID}', round(time.time() - t2, 4))\n",
    "        # break\n",
    "    Freqfilename = f'{rsn}_Node_frequencies_atHoles_GudhiOnly.csv'\n",
    "    Persistfilename = f'{rsn}_Node_persistence_atHoles_GudhiOnly.csv'\n",
    "    FreqOutdf, PersistOutdf = pd.DataFrame(Freqoutdict), pd.DataFrame(Persistoutdict)\n",
    "    FreqOutdf.to_csv(outpath+ '../' +Freqfilename, index = None)\n",
    "    PersistOutdf.to_csv(outpath+ '../' +Persistfilename, index = None)\n",
    "    break"
   ]
  },
  {
   "cell_type": "markdown",
   "metadata": {},
   "source": [
    "Let G be a graph and G1 is the subgraph containing only all the cycles in the graph G.\n",
    "Now, for a given node N, if there are m edges connected with the node N, and are part of e1,e2,...,em number of cycles respectively,\n",
    "then show that N would be part of sum(e1+e2+...+em)/2 number of cycles   "
   ]
  },
  {
   "cell_type": "code",
   "execution_count": 14,
   "metadata": {},
   "outputs": [],
   "source": [
    "#------------------------------------------------\n",
    "# Function to find mean an standard error \n",
    "#------------------------------------------------\n",
    "\n",
    "def Node_Groupdiff(group1,group2,Infile,g1name,g2name,test_name,NNodes):\n",
    "    p_val = []\n",
    "    Gr1,Gr2 = [[],[]],[[],[]]\n",
    "    for i in range(NNodes):\n",
    "        data1,data2 = [],[]\n",
    "        for sub1 in group1:\n",
    "            data1.append(Infile[sub1][i])\n",
    "        Gr1[0].append(np.mean(data1))\n",
    "        Gr1[1].append(stats.sem(data1))\n",
    "        \n",
    "        for sub2 in group2:\n",
    "            data2.append(Infile[sub2][i])\n",
    "        Gr2[0].append(np.mean(data2))\n",
    "        Gr2[1].append(stats.sem(data2))\n",
    "        if test_name == 'TTest':\n",
    "            p_val.append(stats.ttest_ind(data1,data2,equal_var=False)[1])\n",
    "        elif test_name == 'UTest':\n",
    "            p_val.append(stats.mannwhitneyu(data1,data2)[1])\n",
    "        \n",
    "    p_values = [item for item in p_val]\n",
    "    correction = multitest.multipletests(p_values, alpha=0.05, method = 'fdr_bh')\n",
    "    fdr = correction[0]\n",
    "    p_v_corrected = correction[1]\n",
    "\n",
    "    nodes = [i for i in range(NNodes)]\n",
    "    Gdiff = {'Nodes': nodes, 'p_values':p_values, 'fdr_corrected_p_val':p_v_corrected, f'{g1name}_mean': Gr1[0], f'{g1name}_sd':Gr1[1], f'{g2name}_mean':Gr2[0], f'{g2name}_sd':Gr2[1]}\n",
    "    return pd.DataFrame(Gdiff)"
   ]
  },
  {
   "cell_type": "code",
   "execution_count": 16,
   "metadata": {},
   "outputs": [
    {
     "name": "stdout",
     "output_type": "stream",
     "text": [
      "Young 153 \t Elderly 72 \tTotal: 225\n",
      "32302 32301 ../../../PersistentHomology_fMRIdata/Outputs_RSN/HomoScaffold/MPI_LEMON/Limbic/\n"
     ]
    }
   ],
   "source": [
    "if dataset == 'MPI_LEMON':\n",
    "    Detailsfile = pd.read_csv('../../../PersistentHomology_fMRIdata/Data/MPI_LEMON/MPILemon_Subject_details.csv')\n",
    "    Young = list(map(str, list(Detailsfile.loc[Detailsfile['Cohort'] == 'Young','Subject'])))\n",
    "    Elder = list(map(str, list(Detailsfile.loc[Detailsfile['Cohort'] == 'Elderly','Subject'])))\n",
    "    All_subs = Young + Elder\n",
    "    Group1, Group2 = 'Young', 'Elderly'\n",
    "    GR1, GR2 = Young, Elder\n",
    "\n",
    "elif dataset == 'ABIDE':\n",
    "    Detailsfile = pd.read_csv('../../../PersistentHomology_fMRIdata/Data/ABIDE/ABIDE_Subject_details.csv')\n",
    "    ASD = list(map(str, list(Detailsfile.loc[Detailsfile['Cohort'] == 'ASD','Subject identifier'])))\n",
    "    Healthy = list(map(str, list(Detailsfile.loc[Detailsfile['Cohort'] == 'HC','Subject identifier'])))\n",
    "    All_subs = ASD + Healthy\n",
    "    Group1, Group2 = 'ASD', 'Healthy'\n",
    "    GR1, GR2 = ASD, Healthy\n",
    "\n",
    "print(Group1, len(GR1), '\\t', Group2, len(GR2), '\\tTotal:', len(All_subs))\n",
    "print(GR1[0], GR2[0], outpath)"
   ]
  },
  {
   "cell_type": "code",
   "execution_count": 22,
   "metadata": {},
   "outputs": [
    {
     "name": "stdout",
     "output_type": "stream",
     "text": [
      "12 (12, 226)\n",
      "Young 153 \t Elderly 72 \tTotal: 225\n",
      "../../../PersistentHomology_fMRIdata/Outputs_RSN/HomoScaffold/MPI_LEMON/Limbic/../p_values/p_values_TTest_Limbic_Node_frequencies_atHoles_GudhiOnly.txt \n",
      " Done for Limbic  (12, 7)\t Time: 0.06691980361938477\n",
      "Done\n"
     ]
    }
   ],
   "source": [
    "t0 = time.time()\n",
    "\n",
    "for RSN in RSNs7[4:]:\n",
    "    t1 = time.time()\n",
    "    indices = result_dict[RSN]\n",
    "    NNodes = len(indices)\n",
    "    rsn = RSN.replace(' ','')\n",
    "    path = outpath+ '../' \n",
    "\n",
    "    Freqfilename = f'{rsn}_Node_frequencies_atHoles_GudhiOnly.csv'\n",
    "    Persistfilename = f'{rsn}_Node_persistence_atHoles_GudhiOnly.csv'\n",
    "    \n",
    "    Infile_1 = pd.read_csv(path + Freqfilename)\n",
    "    Infile_2 = pd.read_csv(path + Persistfilename)\n",
    "    print(NNodes, Infile_1.shape)\n",
    "    \n",
    "    print(Group1, len(GR1), '\\t', Group2, len(GR2), '\\tTotal:', len(GR1+GR2))\n",
    "    Tests = ['TTest', 'UTest']\n",
    "    test_name = Tests[0]\n",
    "    \n",
    "    df_freq = Node_Groupdiff(GR1,GR2,Infile_1, Group1,Group2, test_name,NNodes)\n",
    "    df_persist = Node_Groupdiff(GR1,GR2,Infile_2, Group1,Group2, test_name,NNodes)\n",
    "    \n",
    "    df_freq = pd.DataFrame(df_freq)\n",
    "    df_persist = pd.DataFrame(df_persist)\n",
    "    df_freq.to_csv(path +f'p_values_{test_name}_{Freqfilename.split(\".\")[0]}.txt',sep = '\\t', index=None)\n",
    "    df_persist.to_csv(path +f'p_values_{test_name}_{Persistfilename.split(\".\")[0]}.txt',sep = '\\t', index=None)\n",
    "    \n",
    "    print(path +f'p_values/p_values_{test_name}_{Freqfilename.split(\".\")[0]}.txt',f'\\n Done for {rsn}  {df_persist.shape}\\t Time:', time.time() - t0)\n",
    "    break\n",
    "print('Done')"
   ]
  },
  {
   "cell_type": "code",
   "execution_count": 27,
   "metadata": {},
   "outputs": [
    {
     "name": "stdout",
     "output_type": "stream",
     "text": [
      "MPI_LEMON 42 [19, 23, 28, 32, 34, 35, 36, 37, 38, 39, 45, 50, 60, 61, 70, 81, 90, 92, 124, 125, 126, 128, 130, 131, 132, 133, 139, 140, 142, 143, 144, 150, 157, 164, 165, 166, 173, 175, 181, 183, 194, 195]\n",
      "Young 153 \t Elderly 72 \tTotal: 225\n",
      "\n",
      "p-values\tFDR-corrected\n",
      "Limbic 12 {0: 54, 1: 55, 2: 56, 3: 57, 4: 58, 5: 59, 6: 158, 7: 159, 8: 160, 9: 161, 10: 162, 11: 163}\n",
      "0 \t 0 [] \t 0 \t 0 \t [] \t TTest \t Frequencies \t Limbic\n",
      "0 \t 0 [] \t 0 \t 0 \t [] \t TTest \t Persistence \t Limbic\n",
      "1 \t 0 [] \t 0 \t 0 \t [] \t UTest \t Frequencies \t Limbic\n",
      "0 \t 0 [] \t 0 \t 0 \t [] \t UTest \t Persistence \t Limbic\n"
     ]
    }
   ],
   "source": [
    "if dataset == 'ABIDE':\n",
    "    nibs = [19,20,23,25,27,28,40,41,42,50,53,69,86,90,92,94,124,125,128,130,144,146,150,157,171,173,174,175,189,194,195]\n",
    "elif dataset == 'MPI_LEMON':\n",
    "    nibs = [19, 23, 28, 32, 34, 35, 36, 37, 38, 39, 45, 50, 60, 61, 70, 81, 90, 92, 124, 125, 126, 128, 130, 131, 132, 133, 139, 140, 142, 143, 144,\n",
    "        150, 157, 164, 165, 166, 173, 175, 181, 183, 194, 195]\n",
    "\n",
    "files = ['Frequencies', 'Persistence'] #['Persistence'] #\n",
    "# test_name = 'UTest'\n",
    "# dfs = [df_freq, df_persist]\n",
    "print(dataset, len(nibs),nibs)\n",
    "print(Group1, len(GR1), '\\t', Group2, len(GR2), '\\tTotal:', len(GR1+GR2))\n",
    "print('\\np-values\\tFDR-corrected')\n",
    "# print( )\n",
    "\n",
    "for RSN in RSNs7[4:]:\n",
    "    rsn = RSN.replace(' ','')\n",
    "    indices = result_dict[RSN]\n",
    "    NNodes = len(indices)\n",
    "    ppath = outpath+ '../'\n",
    "    print(rsn, NNodes, RSN_node_details[RSN])\n",
    "    for test_name in ['TTest', 'UTest']:\n",
    "        for f in files:\n",
    "            df = pd.read_csv(ppath + f'p_values_{test_name}_{rsn}_Node_{f}_atHoles_GudhiOnly.txt', sep = '\\t')\n",
    "            filtered_values = df.loc[df['fdr_corrected_p_val'] < 0.05, 'Nodes']\n",
    "            node_ids_fdr = [RSN_node_details[RSN][i] for i in filtered_values]\n",
    "            nodesno = set(nibs).intersection(set(node_ids_fdr))\n",
    "            \n",
    "            diff_p_values = df.loc[df['p_values'] < 0.05, 'Nodes']\n",
    "            node_ids = [RSN_node_details[RSN][i] for i in diff_p_values]\n",
    "            nodesnoP = set(nibs).intersection(set(node_ids))\n",
    "            # print( len(node_ids), len(node_ids_fdr), node_ids_fdr)\n",
    "            #print(nodesno)\n",
    "            #print(sorted(nodesnoP), len(nodesnoP))    \n",
    "            print(len(diff_p_values),'\\t', len(nodesnoP),list(nodesnoP),'\\t', len(filtered_values), '\\t', len(nodesno),'\\t', sorted(nodesno),'\\t', test_name,'\\t',f,'\\t', rsn)\n",
    "        # break\n",
    "    break"
   ]
  },
  {
   "cell_type": "code",
   "execution_count": 30,
   "metadata": {},
   "outputs": [
    {
     "name": "stdout",
     "output_type": "stream",
     "text": [
      "../../../PersistentHomology_fMRIdata/Outputs_RSN/HomoScaffold/MPI_LEMON/Limbic/Scaffolds/JPScaffold_Sub_32440.pck Graph with 12 nodes and 19 edges 12 19 0\n",
      "[(1, 4), (1, 6), (1, 0), (4, 9), (4, 5), (6, 9), (6, 8), (9, 11), (9, 3), (9, 2), (5, 11), (5, 7), (11, 8), (0, 7), (0, 3), (0, 2), (7, 10), (7, 8), (10, 3)]\n",
      "[(1, 4, {'weight': 1, 'persistence': 4.0}), (1, 6, {'weight': 2, 'persistence': 19.0}), (1, 0, {'weight': 1, 'persistence': 15.0}), (4, 9, {'weight': 4, 'persistence': 31.0}), (4, 5, {'weight': 3, 'persistence': 27.0}), (6, 9, {'weight': 3, 'persistence': 30.0}), (6, 8, {'weight': 1, 'persistence': 11.0}), (9, 11, {'weight': 1, 'persistence': 2.0}), (9, 3, {'weight': 1, 'persistence': 14.0}), (9, 2, {'weight': 1, 'persistence': 15.0}), (5, 11, {'weight': 2, 'persistence': 3.0}), (5, 7, {'weight': 3, 'persistence': 26.0}), (11, 8, {'weight': 1, 'persistence': 1.0}), (0, 7, {'weight': 2, 'persistence': 29.0}), (0, 3, {'weight': 2, 'persistence': 29.0}), (0, 2, {'weight': 1, 'persistence': 15.0}), (7, 10, {'weight': 1, 'persistence': 15.0}), (7, 8, {'weight': 2, 'persistence': 12.0}), (10, 3, {'weight': 1, 'persistence': 15.0})]\n"
     ]
    },
    {
     "data": {
      "image/png": "[encoded data removed]",
      "text/plain": [
       "<Figure size 640x480 with 1 Axes>"
      ]
     },
     "metadata": {},
     "output_type": "display_data"
    }
   ],
   "source": [
    "dataset, rsn = 'MPI_LEMON', 'Limbic'\n",
    "outpath, SubID = f'../../../PersistentHomology_fMRIdata/Outputs_RSN/HomoScaffold_PosWeight/{dataset}/{rsn}/', '32440'\n",
    "OutHomScaPath = outpath + f'Scaffolds/JPScaffold_Sub_{SubID}.pck'\n",
    "with open(OutHomScaPath, 'rb') as f:\n",
    "    ScafH = pk.load(f)\n",
    "print(OutHomScaPath, ScafH, ScafH.number_of_nodes(),ScafH.number_of_edges(), len(list(nx.isolates(ScafH))))\n",
    "print(list(ScafH.edges()))\n",
    "print(ScafH.edges(data=True))\n",
    "nx.draw(ScafH, node_size=300, with_labels = True)"
   ]
  },
  {
   "cell_type": "code",
   "execution_count": 10,
   "metadata": {},
   "outputs": [
    {
     "data": {
      "text/plain": [
       "6.25"
      ]
     },
     "execution_count": 10,
     "metadata": {},
     "output_type": "execute_result"
    }
   ],
   "source": [
    "100*225/3600"
   ]
  },
  {
   "cell_type": "code",
   "execution_count": null,
   "metadata": {},
   "outputs": [],
   "source": []
  }
 ],
 "metadata": {
  "kernelspec": {
   "display_name": "Python 3 (ipykernel)",
   "language": "python",
   "name": "python3"
  },
  "language_info": {
   "codemirror_mode": {
    "name": "ipython",
    "version": 3
   },
   "file_extension": ".py",
   "mimetype": "text/x-python",
   "name": "python",
   "nbconvert_exporter": "python",
   "pygments_lexer": "ipython3",
   "version": "3.11.7"
  }
 },
 "nbformat": 4,
 "nbformat_minor": 4
}
